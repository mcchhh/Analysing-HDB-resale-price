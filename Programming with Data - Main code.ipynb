{
 "cells": [
  {
   "cell_type": "markdown",
   "id": "6b980e95",
   "metadata": {},
   "source": [
    "# 1. Research Space #"
   ]
  },
  {
   "cell_type": "markdown",
   "id": "28191378",
   "metadata": {},
   "source": [
    "## 1.1 Introduction"
   ]
  },
  {
   "cell_type": "markdown",
   "id": "9e4fbcee",
   "metadata": {},
   "source": [
    "The area of research space will be on HDB flats in Singapore.\n",
    "\n",
    "HDB flats are public housing in Singapore. They are called as such as they are constructed by the Housing and Development Board (HDB) in Singapore. HDB flats are widely and most affordable public housing for citizens or permanent residences living in Singapore. \n",
    "\n",
    "There are two ways citizens are allowed to purchase HDB flats in singapore. The two are Built-to-order (BTO) flats and Resale flats. Built-to-order (BTO) flats consists of a flat allocation system that offers flexibility in timing and location for owners buying public housing in Singapore. On the other hand, resale flats are currently owned by owners who have lived in the flat for a Minimum Occupational Period (MOP) of at least 5 years before owners are allowed to sell and move out of their flats. So for example, when one buys a resale flat, he/she is taking over the propert from the previous owner. \n",
    "\n",
    "In Singapore, there are a wide variety options of flats that citizens are allowed to choose from. As the flat layout and floor area may vary from the different flats. The types of HDB flats in Singapore are as follows:\n",
    "- Community Care Apartment \n",
    "- 2-room \n",
    "- 2-room flexi \n",
    "- 3-room \n",
    "- 4-room \n",
    "- 5-room \n",
    "- 3 Generation \n",
    "- Executive \n",
    "\n",
    "Apart from this, the location of the building is important as well. Such as mature and non-mature estates. Mature estates are residential areas that are more than 20 years old, while non-mature estates are less than 20 years old. Moreover, mature estates are more developed and equipped with amaneities and public transport infrastructure."
   ]
  },
  {
   "cell_type": "markdown",
   "id": "1ce127db",
   "metadata": {},
   "source": [
    "## 1.2 Aims and Objectives"
   ]
  },
  {
   "cell_type": "markdown",
   "id": "c6361ddb",
   "metadata": {},
   "source": [
    "Currently there is a very competitive market in the property sector espeically for home owners who would like to sell their current flats to owners who are looking for resale flats in Singapore. \n",
    "\n",
    "Moreover, in this discussion we will be analysing the price of the resale flats in two different estates (mature and non-mature). As well as analysing whether the maturity of the building will affect the price of the resale flat in both mature and non-mature estate. Finally we will then come to conclusion as to which HDB flat in either mature or non-mature estate will be more afforable for citizens to purchase. \n",
    "\n",
    "Furthermore, to simplify and and have a more detailed breakdown of the analysis, we will only be focusing on 4-room flats throughout this analysis and we will only be taking data from mature estate (Bishan) and non-mature estate (Yishun). (According to a written article by www.propertyguru.com.sg, Bishan is listed as a mature estate, while Yishun is listed as a non-mature estates). We have chosen this estate out of the many others as these two areas are relatively central parts of Singapore and yet they are not far from each other with only a distance of 11.9km between them. Which is an approximately 30 minutes drive from Bishan to Yishun, and Yishun to Bishan. Here is the article for reference: https://www.propertyguru.com.sg/property-guides/non-mature-vs-mature-bto-55760) "
   ]
  },
  {
   "cell_type": "markdown",
   "id": "d1fdbbfa",
   "metadata": {},
   "source": [
    "## 1.3 Data "
   ]
  },
  {
   "cell_type": "markdown",
   "id": "562fab89",
   "metadata": {},
   "source": [
    "The dataset that we will be using is from the website (www.stproperty.sg)\n",
    "\n",
    "Below will be the two websites that we will be webscraping the latest data from to do the analysis. \n",
    "\n",
    "Bishan \n",
    "-  https://www.stproperty.sg/singapore-property-listings/hdb-for-sale?cdResearchSubTypes=2&selectedHdbTownIds=3&page=2\n",
    "\n",
    "Yishun\n",
    "- https://www.stproperty.sg/singapore-property-listings/hdb-for-sale?cdResearchSubTypes=2&selectedHdbTownIds=27"
   ]
  },
  {
   "cell_type": "markdown",
   "id": "40c76a29",
   "metadata": {},
   "source": [
    "## 1.4 Relevancy of data"
   ]
  },
  {
   "cell_type": "markdown",
   "id": "fbd9fd19",
   "metadata": {},
   "source": [
    "The data was taken from the website \n",
    "- https://www.stproperty.sg/singapore-property-listings/hdb-for-sale?cdResearchSubTypes=2&selectedHdbTownIds=3&page=2\n",
    "- https://www.stproperty.sg/singapore-property-listings/hdb-for-sale?cdResearchSubTypes=2&selectedHdbTownIds=27\n",
    "\n",
    "Stproperty is one of the website that is widely known in getting data for its accurate and unbiased price-taking of the HDB flats in Singapore. The website contains publicly and useful data that everyone can access. One of such is the details of the type of HDB flat. Information like these are fundamental for our research and it will be used to analyse the prices and the original year of when the house was constructed. These helps us to come to a conclusion on the purchase of resale flats in Singapore."
   ]
  },
  {
   "cell_type": "markdown",
   "id": "54aadc97",
   "metadata": {},
   "source": [
    "## 1.5 Limitation and constraint of data "
   ]
  },
  {
   "cell_type": "markdown",
   "id": "40f1d077",
   "metadata": {},
   "source": [
    "The data that is used in project is simply a rough estimate across different platform. The analysis done in our project only pertains to the data from STProperty. Since the aim is to eventually purchase a public flat in Singapore, we would be able to narrow down certain options by the end of the project. However, since our data is specific to STProperty, we would not be able to use our result to begin purchasing HDB flats in Singapore. "
   ]
  },
  {
   "cell_type": "markdown",
   "id": "1c3499ac",
   "metadata": {},
   "source": [
    "## 1.6 Ethical Considerations "
   ]
  },
  {
   "cell_type": "markdown",
   "id": "882ea88d",
   "metadata": {},
   "source": [
    "The website that I use for my data, allows web scraping to be done. STproperty is a website that is free for everyone to access and under the terms and conditions, there was no clause foridding the web scrapping. "
   ]
  },
  {
   "cell_type": "markdown",
   "id": "f59ca5cc",
   "metadata": {},
   "source": [
    "## 1.7 Modifications "
   ]
  },
  {
   "cell_type": "markdown",
   "id": "f7afd7ef",
   "metadata": {},
   "source": [
    "Before analysing the data, the data will be cleaned. We will check through the data to see if there are any missing values. The data will be modified before graphs are plotted. Unnecessary informations will be removed in the data if not needed for the analysis so that we are able to be constant in the data and to keep the data clean and easily readable. Such that for every analysis, a new dataframe will be made with only the required information for the analysis. "
   ]
  },
  {
   "cell_type": "markdown",
   "id": "abbc8c3c",
   "metadata": {},
   "source": [
    "# 2. Webscraping data to csv files #"
   ]
  },
  {
   "cell_type": "markdown",
   "id": "bf05a6e4",
   "metadata": {},
   "source": [
    "In this section we will be webscraping data from the website mentioned above to collect the data for our analysis and will be converted into csv files for safe keeping. \n",
    "\n",
    "The reason we are doing it this way is so that we can prevent the lost of data in the website in any case there are any changes made to the website after we have webscrape the data. Hence, to prevent that from happening, we will be extracting the data from the website and converting it into a csv file and then we will be reading the data directly from the csv file that we have created with our extracted data. \n",
    "\n",
    "Below will be the the steps that we will take to extract and collect our data. "
   ]
  },
  {
   "cell_type": "markdown",
   "id": "262417aa",
   "metadata": {},
   "source": [
    "## 2.1 Importing libraries "
   ]
  },
  {
   "cell_type": "markdown",
   "id": "b75fdab0",
   "metadata": {},
   "source": [
    "\n",
    "\n",
    "Required libraries, such as pandas and numpy are imported. "
   ]
  },
  {
   "cell_type": "code",
   "execution_count": 1,
   "id": "aebca24f",
   "metadata": {},
   "outputs": [],
   "source": [
    "import pandas as pd \n",
    "import numpy as np \n",
    "import requests \n",
    "from csv import writer\n",
    "from bs4 import BeautifulSoup\n",
    "import matplotlib.pyplot as plt"
   ]
  },
  {
   "cell_type": "markdown",
   "id": "6f17d2d4",
   "metadata": {},
   "source": [
    "## 2.2 Scraping of the data"
   ]
  },
  {
   "cell_type": "markdown",
   "id": "c3676fcd",
   "metadata": {},
   "source": [
    "In this section, we will be scraping 2 different types of data from the website listed below. One from Bishan and the other one will be Yishun. "
   ]
  },
  {
   "cell_type": "markdown",
   "id": "e0af2ca3",
   "metadata": {},
   "source": [
    "### 2.2.1 Webscraping Bishan 4R flat at a Mature estate "
   ]
  },
  {
   "cell_type": "markdown",
   "id": "8d1fef9d",
   "metadata": {},
   "source": [
    "#### Get the URL website"
   ]
  },
  {
   "cell_type": "code",
   "execution_count": 7,
   "id": "bff5c1be",
   "metadata": {},
   "outputs": [],
   "source": [
    "#Bishan 4-room flat \n",
    "url = \"https://www.stproperty.sg/singapore-property-listings/hdb-for-sale?cdResearchSubTypes=2&selectedHdbTownIds=3&page=2\""
   ]
  },
  {
   "cell_type": "markdown",
   "id": "b31c5e04",
   "metadata": {},
   "source": [
    "#### Make a request to the website "
   ]
  },
  {
   "cell_type": "markdown",
   "id": "1e985918",
   "metadata": {},
   "source": [
    "If response is 200, it means that we are good to go."
   ]
  },
  {
   "cell_type": "code",
   "execution_count": 8,
   "id": "5adda4ef",
   "metadata": {},
   "outputs": [
    {
     "ename": "ConnectionError",
     "evalue": "HTTPSConnectionPool(host='www.stproperty.sg', port=443): Max retries exceeded with url: /singapore-property-listings/hdb-for-sale?cdResearchSubTypes=2&selectedHdbTownIds=3&page=2 (Caused by NewConnectionError('<urllib3.connection.HTTPSConnection object at 0x0000020D183F70A0>: Failed to establish a new connection: [Errno 11001] getaddrinfo failed'))",
     "output_type": "error",
     "traceback": [
      "\u001b[1;31m---------------------------------------------------------------------------\u001b[0m",
      "\u001b[1;31mgaierror\u001b[0m                                  Traceback (most recent call last)",
      "\u001b[1;32m~\\anaconda3\\lib\\site-packages\\urllib3\\connection.py\u001b[0m in \u001b[0;36m_new_conn\u001b[1;34m(self)\u001b[0m\n\u001b[0;32m    173\u001b[0m         \u001b[1;32mtry\u001b[0m\u001b[1;33m:\u001b[0m\u001b[1;33m\u001b[0m\u001b[1;33m\u001b[0m\u001b[0m\n\u001b[1;32m--> 174\u001b[1;33m             conn = connection.create_connection(\n\u001b[0m\u001b[0;32m    175\u001b[0m                 \u001b[1;33m(\u001b[0m\u001b[0mself\u001b[0m\u001b[1;33m.\u001b[0m\u001b[0m_dns_host\u001b[0m\u001b[1;33m,\u001b[0m \u001b[0mself\u001b[0m\u001b[1;33m.\u001b[0m\u001b[0mport\u001b[0m\u001b[1;33m)\u001b[0m\u001b[1;33m,\u001b[0m \u001b[0mself\u001b[0m\u001b[1;33m.\u001b[0m\u001b[0mtimeout\u001b[0m\u001b[1;33m,\u001b[0m \u001b[1;33m**\u001b[0m\u001b[0mextra_kw\u001b[0m\u001b[1;33m\u001b[0m\u001b[1;33m\u001b[0m\u001b[0m\n",
      "\u001b[1;32m~\\anaconda3\\lib\\site-packages\\urllib3\\util\\connection.py\u001b[0m in \u001b[0;36mcreate_connection\u001b[1;34m(address, timeout, source_address, socket_options)\u001b[0m\n\u001b[0;32m     71\u001b[0m \u001b[1;33m\u001b[0m\u001b[0m\n\u001b[1;32m---> 72\u001b[1;33m     \u001b[1;32mfor\u001b[0m \u001b[0mres\u001b[0m \u001b[1;32min\u001b[0m \u001b[0msocket\u001b[0m\u001b[1;33m.\u001b[0m\u001b[0mgetaddrinfo\u001b[0m\u001b[1;33m(\u001b[0m\u001b[0mhost\u001b[0m\u001b[1;33m,\u001b[0m \u001b[0mport\u001b[0m\u001b[1;33m,\u001b[0m \u001b[0mfamily\u001b[0m\u001b[1;33m,\u001b[0m \u001b[0msocket\u001b[0m\u001b[1;33m.\u001b[0m\u001b[0mSOCK_STREAM\u001b[0m\u001b[1;33m)\u001b[0m\u001b[1;33m:\u001b[0m\u001b[1;33m\u001b[0m\u001b[1;33m\u001b[0m\u001b[0m\n\u001b[0m\u001b[0;32m     73\u001b[0m         \u001b[0maf\u001b[0m\u001b[1;33m,\u001b[0m \u001b[0msocktype\u001b[0m\u001b[1;33m,\u001b[0m \u001b[0mproto\u001b[0m\u001b[1;33m,\u001b[0m \u001b[0mcanonname\u001b[0m\u001b[1;33m,\u001b[0m \u001b[0msa\u001b[0m \u001b[1;33m=\u001b[0m \u001b[0mres\u001b[0m\u001b[1;33m\u001b[0m\u001b[1;33m\u001b[0m\u001b[0m\n",
      "\u001b[1;32m~\\anaconda3\\lib\\socket.py\u001b[0m in \u001b[0;36mgetaddrinfo\u001b[1;34m(host, port, family, type, proto, flags)\u001b[0m\n\u001b[0;32m    953\u001b[0m     \u001b[0maddrlist\u001b[0m \u001b[1;33m=\u001b[0m \u001b[1;33m[\u001b[0m\u001b[1;33m]\u001b[0m\u001b[1;33m\u001b[0m\u001b[1;33m\u001b[0m\u001b[0m\n\u001b[1;32m--> 954\u001b[1;33m     \u001b[1;32mfor\u001b[0m \u001b[0mres\u001b[0m \u001b[1;32min\u001b[0m \u001b[0m_socket\u001b[0m\u001b[1;33m.\u001b[0m\u001b[0mgetaddrinfo\u001b[0m\u001b[1;33m(\u001b[0m\u001b[0mhost\u001b[0m\u001b[1;33m,\u001b[0m \u001b[0mport\u001b[0m\u001b[1;33m,\u001b[0m \u001b[0mfamily\u001b[0m\u001b[1;33m,\u001b[0m \u001b[0mtype\u001b[0m\u001b[1;33m,\u001b[0m \u001b[0mproto\u001b[0m\u001b[1;33m,\u001b[0m \u001b[0mflags\u001b[0m\u001b[1;33m)\u001b[0m\u001b[1;33m:\u001b[0m\u001b[1;33m\u001b[0m\u001b[1;33m\u001b[0m\u001b[0m\n\u001b[0m\u001b[0;32m    955\u001b[0m         \u001b[0maf\u001b[0m\u001b[1;33m,\u001b[0m \u001b[0msocktype\u001b[0m\u001b[1;33m,\u001b[0m \u001b[0mproto\u001b[0m\u001b[1;33m,\u001b[0m \u001b[0mcanonname\u001b[0m\u001b[1;33m,\u001b[0m \u001b[0msa\u001b[0m \u001b[1;33m=\u001b[0m \u001b[0mres\u001b[0m\u001b[1;33m\u001b[0m\u001b[1;33m\u001b[0m\u001b[0m\n",
      "\u001b[1;31mgaierror\u001b[0m: [Errno 11001] getaddrinfo failed",
      "\nDuring handling of the above exception, another exception occurred:\n",
      "\u001b[1;31mNewConnectionError\u001b[0m                        Traceback (most recent call last)",
      "\u001b[1;32m~\\anaconda3\\lib\\site-packages\\urllib3\\connectionpool.py\u001b[0m in \u001b[0;36murlopen\u001b[1;34m(self, method, url, body, headers, retries, redirect, assert_same_host, timeout, pool_timeout, release_conn, chunked, body_pos, **response_kw)\u001b[0m\n\u001b[0;32m    702\u001b[0m             \u001b[1;31m# Make the request on the httplib connection object.\u001b[0m\u001b[1;33m\u001b[0m\u001b[1;33m\u001b[0m\u001b[0m\n\u001b[1;32m--> 703\u001b[1;33m             httplib_response = self._make_request(\n\u001b[0m\u001b[0;32m    704\u001b[0m                 \u001b[0mconn\u001b[0m\u001b[1;33m,\u001b[0m\u001b[1;33m\u001b[0m\u001b[1;33m\u001b[0m\u001b[0m\n",
      "\u001b[1;32m~\\anaconda3\\lib\\site-packages\\urllib3\\connectionpool.py\u001b[0m in \u001b[0;36m_make_request\u001b[1;34m(self, conn, method, url, timeout, chunked, **httplib_request_kw)\u001b[0m\n\u001b[0;32m    385\u001b[0m         \u001b[1;32mtry\u001b[0m\u001b[1;33m:\u001b[0m\u001b[1;33m\u001b[0m\u001b[1;33m\u001b[0m\u001b[0m\n\u001b[1;32m--> 386\u001b[1;33m             \u001b[0mself\u001b[0m\u001b[1;33m.\u001b[0m\u001b[0m_validate_conn\u001b[0m\u001b[1;33m(\u001b[0m\u001b[0mconn\u001b[0m\u001b[1;33m)\u001b[0m\u001b[1;33m\u001b[0m\u001b[1;33m\u001b[0m\u001b[0m\n\u001b[0m\u001b[0;32m    387\u001b[0m         \u001b[1;32mexcept\u001b[0m \u001b[1;33m(\u001b[0m\u001b[0mSocketTimeout\u001b[0m\u001b[1;33m,\u001b[0m \u001b[0mBaseSSLError\u001b[0m\u001b[1;33m)\u001b[0m \u001b[1;32mas\u001b[0m \u001b[0me\u001b[0m\u001b[1;33m:\u001b[0m\u001b[1;33m\u001b[0m\u001b[1;33m\u001b[0m\u001b[0m\n",
      "\u001b[1;32m~\\anaconda3\\lib\\site-packages\\urllib3\\connectionpool.py\u001b[0m in \u001b[0;36m_validate_conn\u001b[1;34m(self, conn)\u001b[0m\n\u001b[0;32m   1041\u001b[0m         \u001b[1;32mif\u001b[0m \u001b[1;32mnot\u001b[0m \u001b[0mgetattr\u001b[0m\u001b[1;33m(\u001b[0m\u001b[0mconn\u001b[0m\u001b[1;33m,\u001b[0m \u001b[1;34m\"sock\"\u001b[0m\u001b[1;33m,\u001b[0m \u001b[1;32mNone\u001b[0m\u001b[1;33m)\u001b[0m\u001b[1;33m:\u001b[0m  \u001b[1;31m# AppEngine might not have  `.sock`\u001b[0m\u001b[1;33m\u001b[0m\u001b[1;33m\u001b[0m\u001b[0m\n\u001b[1;32m-> 1042\u001b[1;33m             \u001b[0mconn\u001b[0m\u001b[1;33m.\u001b[0m\u001b[0mconnect\u001b[0m\u001b[1;33m(\u001b[0m\u001b[1;33m)\u001b[0m\u001b[1;33m\u001b[0m\u001b[1;33m\u001b[0m\u001b[0m\n\u001b[0m\u001b[0;32m   1043\u001b[0m \u001b[1;33m\u001b[0m\u001b[0m\n",
      "\u001b[1;32m~\\anaconda3\\lib\\site-packages\\urllib3\\connection.py\u001b[0m in \u001b[0;36mconnect\u001b[1;34m(self)\u001b[0m\n\u001b[0;32m    357\u001b[0m         \u001b[1;31m# Add certificate verification\u001b[0m\u001b[1;33m\u001b[0m\u001b[1;33m\u001b[0m\u001b[0m\n\u001b[1;32m--> 358\u001b[1;33m         \u001b[0mself\u001b[0m\u001b[1;33m.\u001b[0m\u001b[0msock\u001b[0m \u001b[1;33m=\u001b[0m \u001b[0mconn\u001b[0m \u001b[1;33m=\u001b[0m \u001b[0mself\u001b[0m\u001b[1;33m.\u001b[0m\u001b[0m_new_conn\u001b[0m\u001b[1;33m(\u001b[0m\u001b[1;33m)\u001b[0m\u001b[1;33m\u001b[0m\u001b[1;33m\u001b[0m\u001b[0m\n\u001b[0m\u001b[0;32m    359\u001b[0m         \u001b[0mhostname\u001b[0m \u001b[1;33m=\u001b[0m \u001b[0mself\u001b[0m\u001b[1;33m.\u001b[0m\u001b[0mhost\u001b[0m\u001b[1;33m\u001b[0m\u001b[1;33m\u001b[0m\u001b[0m\n",
      "\u001b[1;32m~\\anaconda3\\lib\\site-packages\\urllib3\\connection.py\u001b[0m in \u001b[0;36m_new_conn\u001b[1;34m(self)\u001b[0m\n\u001b[0;32m    185\u001b[0m         \u001b[1;32mexcept\u001b[0m \u001b[0mSocketError\u001b[0m \u001b[1;32mas\u001b[0m \u001b[0me\u001b[0m\u001b[1;33m:\u001b[0m\u001b[1;33m\u001b[0m\u001b[1;33m\u001b[0m\u001b[0m\n\u001b[1;32m--> 186\u001b[1;33m             raise NewConnectionError(\n\u001b[0m\u001b[0;32m    187\u001b[0m                 \u001b[0mself\u001b[0m\u001b[1;33m,\u001b[0m \u001b[1;34m\"Failed to establish a new connection: %s\"\u001b[0m \u001b[1;33m%\u001b[0m \u001b[0me\u001b[0m\u001b[1;33m\u001b[0m\u001b[1;33m\u001b[0m\u001b[0m\n",
      "\u001b[1;31mNewConnectionError\u001b[0m: <urllib3.connection.HTTPSConnection object at 0x0000020D183F70A0>: Failed to establish a new connection: [Errno 11001] getaddrinfo failed",
      "\nDuring handling of the above exception, another exception occurred:\n",
      "\u001b[1;31mMaxRetryError\u001b[0m                             Traceback (most recent call last)",
      "\u001b[1;32m~\\anaconda3\\lib\\site-packages\\requests\\adapters.py\u001b[0m in \u001b[0;36msend\u001b[1;34m(self, request, stream, timeout, verify, cert, proxies)\u001b[0m\n\u001b[0;32m    488\u001b[0m             \u001b[1;32mif\u001b[0m \u001b[1;32mnot\u001b[0m \u001b[0mchunked\u001b[0m\u001b[1;33m:\u001b[0m\u001b[1;33m\u001b[0m\u001b[1;33m\u001b[0m\u001b[0m\n\u001b[1;32m--> 489\u001b[1;33m                 resp = conn.urlopen(\n\u001b[0m\u001b[0;32m    490\u001b[0m                     \u001b[0mmethod\u001b[0m\u001b[1;33m=\u001b[0m\u001b[0mrequest\u001b[0m\u001b[1;33m.\u001b[0m\u001b[0mmethod\u001b[0m\u001b[1;33m,\u001b[0m\u001b[1;33m\u001b[0m\u001b[1;33m\u001b[0m\u001b[0m\n",
      "\u001b[1;32m~\\anaconda3\\lib\\site-packages\\urllib3\\connectionpool.py\u001b[0m in \u001b[0;36murlopen\u001b[1;34m(self, method, url, body, headers, retries, redirect, assert_same_host, timeout, pool_timeout, release_conn, chunked, body_pos, **response_kw)\u001b[0m\n\u001b[0;32m    786\u001b[0m \u001b[1;33m\u001b[0m\u001b[0m\n\u001b[1;32m--> 787\u001b[1;33m             retries = retries.increment(\n\u001b[0m\u001b[0;32m    788\u001b[0m                 \u001b[0mmethod\u001b[0m\u001b[1;33m,\u001b[0m \u001b[0murl\u001b[0m\u001b[1;33m,\u001b[0m \u001b[0merror\u001b[0m\u001b[1;33m=\u001b[0m\u001b[0me\u001b[0m\u001b[1;33m,\u001b[0m \u001b[0m_pool\u001b[0m\u001b[1;33m=\u001b[0m\u001b[0mself\u001b[0m\u001b[1;33m,\u001b[0m \u001b[0m_stacktrace\u001b[0m\u001b[1;33m=\u001b[0m\u001b[0msys\u001b[0m\u001b[1;33m.\u001b[0m\u001b[0mexc_info\u001b[0m\u001b[1;33m(\u001b[0m\u001b[1;33m)\u001b[0m\u001b[1;33m[\u001b[0m\u001b[1;36m2\u001b[0m\u001b[1;33m]\u001b[0m\u001b[1;33m\u001b[0m\u001b[1;33m\u001b[0m\u001b[0m\n",
      "\u001b[1;32m~\\anaconda3\\lib\\site-packages\\urllib3\\util\\retry.py\u001b[0m in \u001b[0;36mincrement\u001b[1;34m(self, method, url, response, error, _pool, _stacktrace)\u001b[0m\n\u001b[0;32m    591\u001b[0m         \u001b[1;32mif\u001b[0m \u001b[0mnew_retry\u001b[0m\u001b[1;33m.\u001b[0m\u001b[0mis_exhausted\u001b[0m\u001b[1;33m(\u001b[0m\u001b[1;33m)\u001b[0m\u001b[1;33m:\u001b[0m\u001b[1;33m\u001b[0m\u001b[1;33m\u001b[0m\u001b[0m\n\u001b[1;32m--> 592\u001b[1;33m             \u001b[1;32mraise\u001b[0m \u001b[0mMaxRetryError\u001b[0m\u001b[1;33m(\u001b[0m\u001b[0m_pool\u001b[0m\u001b[1;33m,\u001b[0m \u001b[0murl\u001b[0m\u001b[1;33m,\u001b[0m \u001b[0merror\u001b[0m \u001b[1;32mor\u001b[0m \u001b[0mResponseError\u001b[0m\u001b[1;33m(\u001b[0m\u001b[0mcause\u001b[0m\u001b[1;33m)\u001b[0m\u001b[1;33m)\u001b[0m\u001b[1;33m\u001b[0m\u001b[1;33m\u001b[0m\u001b[0m\n\u001b[0m\u001b[0;32m    593\u001b[0m \u001b[1;33m\u001b[0m\u001b[0m\n",
      "\u001b[1;31mMaxRetryError\u001b[0m: HTTPSConnectionPool(host='www.stproperty.sg', port=443): Max retries exceeded with url: /singapore-property-listings/hdb-for-sale?cdResearchSubTypes=2&selectedHdbTownIds=3&page=2 (Caused by NewConnectionError('<urllib3.connection.HTTPSConnection object at 0x0000020D183F70A0>: Failed to establish a new connection: [Errno 11001] getaddrinfo failed'))",
      "\nDuring handling of the above exception, another exception occurred:\n",
      "\u001b[1;31mConnectionError\u001b[0m                           Traceback (most recent call last)",
      "\u001b[1;32m~\\AppData\\Local\\Temp\\ipykernel_47904\\1063265045.py\u001b[0m in \u001b[0;36m<module>\u001b[1;34m\u001b[0m\n\u001b[1;32m----> 1\u001b[1;33m \u001b[0mwebpage\u001b[0m \u001b[1;33m=\u001b[0m \u001b[0mrequests\u001b[0m\u001b[1;33m.\u001b[0m\u001b[0mget\u001b[0m\u001b[1;33m(\u001b[0m\u001b[0murl\u001b[0m\u001b[1;33m)\u001b[0m\u001b[1;33m\u001b[0m\u001b[1;33m\u001b[0m\u001b[0m\n\u001b[0m\u001b[0;32m      2\u001b[0m \u001b[0mprint\u001b[0m\u001b[1;33m(\u001b[0m\u001b[0mwebpage\u001b[0m\u001b[1;33m)\u001b[0m\u001b[1;33m\u001b[0m\u001b[1;33m\u001b[0m\u001b[0m\n",
      "\u001b[1;32m~\\anaconda3\\lib\\site-packages\\requests\\api.py\u001b[0m in \u001b[0;36mget\u001b[1;34m(url, params, **kwargs)\u001b[0m\n\u001b[0;32m     71\u001b[0m     \"\"\"\n\u001b[0;32m     72\u001b[0m \u001b[1;33m\u001b[0m\u001b[0m\n\u001b[1;32m---> 73\u001b[1;33m     \u001b[1;32mreturn\u001b[0m \u001b[0mrequest\u001b[0m\u001b[1;33m(\u001b[0m\u001b[1;34m\"get\"\u001b[0m\u001b[1;33m,\u001b[0m \u001b[0murl\u001b[0m\u001b[1;33m,\u001b[0m \u001b[0mparams\u001b[0m\u001b[1;33m=\u001b[0m\u001b[0mparams\u001b[0m\u001b[1;33m,\u001b[0m \u001b[1;33m**\u001b[0m\u001b[0mkwargs\u001b[0m\u001b[1;33m)\u001b[0m\u001b[1;33m\u001b[0m\u001b[1;33m\u001b[0m\u001b[0m\n\u001b[0m\u001b[0;32m     74\u001b[0m \u001b[1;33m\u001b[0m\u001b[0m\n\u001b[0;32m     75\u001b[0m \u001b[1;33m\u001b[0m\u001b[0m\n",
      "\u001b[1;32m~\\anaconda3\\lib\\site-packages\\requests\\api.py\u001b[0m in \u001b[0;36mrequest\u001b[1;34m(method, url, **kwargs)\u001b[0m\n\u001b[0;32m     57\u001b[0m     \u001b[1;31m# cases, and look like a memory leak in others.\u001b[0m\u001b[1;33m\u001b[0m\u001b[1;33m\u001b[0m\u001b[0m\n\u001b[0;32m     58\u001b[0m     \u001b[1;32mwith\u001b[0m \u001b[0msessions\u001b[0m\u001b[1;33m.\u001b[0m\u001b[0mSession\u001b[0m\u001b[1;33m(\u001b[0m\u001b[1;33m)\u001b[0m \u001b[1;32mas\u001b[0m \u001b[0msession\u001b[0m\u001b[1;33m:\u001b[0m\u001b[1;33m\u001b[0m\u001b[1;33m\u001b[0m\u001b[0m\n\u001b[1;32m---> 59\u001b[1;33m         \u001b[1;32mreturn\u001b[0m \u001b[0msession\u001b[0m\u001b[1;33m.\u001b[0m\u001b[0mrequest\u001b[0m\u001b[1;33m(\u001b[0m\u001b[0mmethod\u001b[0m\u001b[1;33m=\u001b[0m\u001b[0mmethod\u001b[0m\u001b[1;33m,\u001b[0m \u001b[0murl\u001b[0m\u001b[1;33m=\u001b[0m\u001b[0murl\u001b[0m\u001b[1;33m,\u001b[0m \u001b[1;33m**\u001b[0m\u001b[0mkwargs\u001b[0m\u001b[1;33m)\u001b[0m\u001b[1;33m\u001b[0m\u001b[1;33m\u001b[0m\u001b[0m\n\u001b[0m\u001b[0;32m     60\u001b[0m \u001b[1;33m\u001b[0m\u001b[0m\n\u001b[0;32m     61\u001b[0m \u001b[1;33m\u001b[0m\u001b[0m\n",
      "\u001b[1;32m~\\anaconda3\\lib\\site-packages\\requests\\sessions.py\u001b[0m in \u001b[0;36mrequest\u001b[1;34m(self, method, url, params, data, headers, cookies, files, auth, timeout, allow_redirects, proxies, hooks, stream, verify, cert, json)\u001b[0m\n\u001b[0;32m    585\u001b[0m         }\n\u001b[0;32m    586\u001b[0m         \u001b[0msend_kwargs\u001b[0m\u001b[1;33m.\u001b[0m\u001b[0mupdate\u001b[0m\u001b[1;33m(\u001b[0m\u001b[0msettings\u001b[0m\u001b[1;33m)\u001b[0m\u001b[1;33m\u001b[0m\u001b[1;33m\u001b[0m\u001b[0m\n\u001b[1;32m--> 587\u001b[1;33m         \u001b[0mresp\u001b[0m \u001b[1;33m=\u001b[0m \u001b[0mself\u001b[0m\u001b[1;33m.\u001b[0m\u001b[0msend\u001b[0m\u001b[1;33m(\u001b[0m\u001b[0mprep\u001b[0m\u001b[1;33m,\u001b[0m \u001b[1;33m**\u001b[0m\u001b[0msend_kwargs\u001b[0m\u001b[1;33m)\u001b[0m\u001b[1;33m\u001b[0m\u001b[1;33m\u001b[0m\u001b[0m\n\u001b[0m\u001b[0;32m    588\u001b[0m \u001b[1;33m\u001b[0m\u001b[0m\n\u001b[0;32m    589\u001b[0m         \u001b[1;32mreturn\u001b[0m \u001b[0mresp\u001b[0m\u001b[1;33m\u001b[0m\u001b[1;33m\u001b[0m\u001b[0m\n",
      "\u001b[1;32m~\\anaconda3\\lib\\site-packages\\requests\\sessions.py\u001b[0m in \u001b[0;36msend\u001b[1;34m(self, request, **kwargs)\u001b[0m\n\u001b[0;32m    699\u001b[0m \u001b[1;33m\u001b[0m\u001b[0m\n\u001b[0;32m    700\u001b[0m         \u001b[1;31m# Send the request\u001b[0m\u001b[1;33m\u001b[0m\u001b[1;33m\u001b[0m\u001b[0m\n\u001b[1;32m--> 701\u001b[1;33m         \u001b[0mr\u001b[0m \u001b[1;33m=\u001b[0m \u001b[0madapter\u001b[0m\u001b[1;33m.\u001b[0m\u001b[0msend\u001b[0m\u001b[1;33m(\u001b[0m\u001b[0mrequest\u001b[0m\u001b[1;33m,\u001b[0m \u001b[1;33m**\u001b[0m\u001b[0mkwargs\u001b[0m\u001b[1;33m)\u001b[0m\u001b[1;33m\u001b[0m\u001b[1;33m\u001b[0m\u001b[0m\n\u001b[0m\u001b[0;32m    702\u001b[0m \u001b[1;33m\u001b[0m\u001b[0m\n\u001b[0;32m    703\u001b[0m         \u001b[1;31m# Total elapsed time of the request (approximately)\u001b[0m\u001b[1;33m\u001b[0m\u001b[1;33m\u001b[0m\u001b[0m\n",
      "\u001b[1;32m~\\anaconda3\\lib\\site-packages\\requests\\adapters.py\u001b[0m in \u001b[0;36msend\u001b[1;34m(self, request, stream, timeout, verify, cert, proxies)\u001b[0m\n\u001b[0;32m    563\u001b[0m                 \u001b[1;32mraise\u001b[0m \u001b[0mSSLError\u001b[0m\u001b[1;33m(\u001b[0m\u001b[0me\u001b[0m\u001b[1;33m,\u001b[0m \u001b[0mrequest\u001b[0m\u001b[1;33m=\u001b[0m\u001b[0mrequest\u001b[0m\u001b[1;33m)\u001b[0m\u001b[1;33m\u001b[0m\u001b[1;33m\u001b[0m\u001b[0m\n\u001b[0;32m    564\u001b[0m \u001b[1;33m\u001b[0m\u001b[0m\n\u001b[1;32m--> 565\u001b[1;33m             \u001b[1;32mraise\u001b[0m \u001b[0mConnectionError\u001b[0m\u001b[1;33m(\u001b[0m\u001b[0me\u001b[0m\u001b[1;33m,\u001b[0m \u001b[0mrequest\u001b[0m\u001b[1;33m=\u001b[0m\u001b[0mrequest\u001b[0m\u001b[1;33m)\u001b[0m\u001b[1;33m\u001b[0m\u001b[1;33m\u001b[0m\u001b[0m\n\u001b[0m\u001b[0;32m    566\u001b[0m \u001b[1;33m\u001b[0m\u001b[0m\n\u001b[0;32m    567\u001b[0m         \u001b[1;32mexcept\u001b[0m \u001b[0mClosedPoolError\u001b[0m \u001b[1;32mas\u001b[0m \u001b[0me\u001b[0m\u001b[1;33m:\u001b[0m\u001b[1;33m\u001b[0m\u001b[1;33m\u001b[0m\u001b[0m\n",
      "\u001b[1;31mConnectionError\u001b[0m: HTTPSConnectionPool(host='www.stproperty.sg', port=443): Max retries exceeded with url: /singapore-property-listings/hdb-for-sale?cdResearchSubTypes=2&selectedHdbTownIds=3&page=2 (Caused by NewConnectionError('<urllib3.connection.HTTPSConnection object at 0x0000020D183F70A0>: Failed to establish a new connection: [Errno 11001] getaddrinfo failed'))"
     ]
    }
   ],
   "source": [
    "webpage = requests.get(url)\n",
    "print(webpage)"
   ]
  },
  {
   "cell_type": "markdown",
   "id": "f486b777",
   "metadata": {},
   "source": [
    "#### Make functions to scrape the data"
   ]
  },
  {
   "cell_type": "markdown",
   "id": "63518e2a",
   "metadata": {},
   "source": [
    "In this section, we will create an object soup and we will extract the target HDB flat data from the entire HTML data obtained by soup. There are 4 target columns that we will extract and they are as follows: \n",
    "\n",
    "1. Title - Address of the HDB flat \n",
    "2. Type - The year the HDB is constructed in \n",
    "3. Values - The details of the HDB flat \n",
    "4. Price - HDB flat price "
   ]
  },
  {
   "cell_type": "code",
   "execution_count": 4,
   "id": "7a361851",
   "metadata": {
    "scrolled": false
   },
   "outputs": [
    {
     "ename": "NameError",
     "evalue": "name 'webpage' is not defined",
     "output_type": "error",
     "traceback": [
      "\u001b[1;31m---------------------------------------------------------------------------\u001b[0m",
      "\u001b[1;31mNameError\u001b[0m                                 Traceback (most recent call last)",
      "\u001b[1;32m~\\AppData\\Local\\Temp\\ipykernel_47904\\1394807193.py\u001b[0m in \u001b[0;36m<module>\u001b[1;34m\u001b[0m\n\u001b[1;32m----> 1\u001b[1;33m \u001b[0msoup\u001b[0m \u001b[1;33m=\u001b[0m \u001b[0mBeautifulSoup\u001b[0m\u001b[1;33m(\u001b[0m\u001b[0mwebpage\u001b[0m\u001b[1;33m.\u001b[0m\u001b[0mcontent\u001b[0m\u001b[1;33m,\u001b[0m \u001b[1;34m'html.parser'\u001b[0m\u001b[1;33m)\u001b[0m\u001b[1;33m\u001b[0m\u001b[1;33m\u001b[0m\u001b[0m\n\u001b[0m\u001b[0;32m      2\u001b[0m \u001b[0mlists\u001b[0m \u001b[1;33m=\u001b[0m \u001b[0msoup\u001b[0m\u001b[1;33m.\u001b[0m\u001b[0mfind_all\u001b[0m\u001b[1;33m(\u001b[0m\u001b[1;34m'div'\u001b[0m\u001b[1;33m,\u001b[0m \u001b[1;33m{\u001b[0m\u001b[1;34m'class'\u001b[0m\u001b[1;33m:\u001b[0m\u001b[1;34m'row listingDetailsInfo'\u001b[0m\u001b[1;33m}\u001b[0m\u001b[1;33m)\u001b[0m\u001b[1;33m\u001b[0m\u001b[1;33m\u001b[0m\u001b[0m\n\u001b[0;32m      3\u001b[0m \u001b[1;33m\u001b[0m\u001b[0m\n\u001b[0;32m      4\u001b[0m \u001b[1;32mfor\u001b[0m \u001b[0mlist\u001b[0m \u001b[1;32min\u001b[0m \u001b[0mlists\u001b[0m\u001b[1;33m:\u001b[0m\u001b[1;33m\u001b[0m\u001b[1;33m\u001b[0m\u001b[0m\n\u001b[0;32m      5\u001b[0m     \u001b[0mTitle\u001b[0m \u001b[1;33m=\u001b[0m \u001b[0mlist\u001b[0m\u001b[1;33m.\u001b[0m\u001b[0mfind\u001b[0m\u001b[1;33m(\u001b[0m\u001b[1;34m'a'\u001b[0m\u001b[1;33m,\u001b[0m \u001b[1;33m{\u001b[0m\u001b[1;34m'class'\u001b[0m\u001b[1;33m:\u001b[0m\u001b[1;34m'listingDetailTitle'\u001b[0m\u001b[1;33m}\u001b[0m\u001b[1;33m)\u001b[0m\u001b[1;33m\u001b[0m\u001b[1;33m\u001b[0m\u001b[0m\n",
      "\u001b[1;31mNameError\u001b[0m: name 'webpage' is not defined"
     ]
    }
   ],
   "source": [
    "soup = BeautifulSoup(webpage.content, 'html.parser')\n",
    "lists = soup.find_all('div', {'class':'row listingDetailsInfo'})\n",
    "\n",
    "for list in lists:\n",
    "    Title = list.find('a', {'class':'listingDetailTitle'})\n",
    "    Type = list.find('div', {'class':'listingDetailType'})\n",
    "    Values = list.find('div', {'listingDetailValues'})\n",
    "    Price = list.find('div', {'listingDetailPrice adjusted-line-height'})\n",
    "    info = [Title, Type, Values, Price]\n",
    "    print(info)"
   ]
  },
  {
   "cell_type": "markdown",
   "id": "90843b5c",
   "metadata": {},
   "source": [
    "Now that we have webscrape our dataset into python, we can start to clear and clean all unnecessary informations that we do not need in our dataset. To make our dataset more neat and clean, so that it is easily readable and can be used for plotting at a later stage.  "
   ]
  },
  {
   "cell_type": "markdown",
   "id": "dd59298b",
   "metadata": {},
   "source": [
    "#### Removing all unnecessary informations - Cleaning and data processing"
   ]
  },
  {
   "cell_type": "code",
   "execution_count": 101,
   "id": "335ef3da",
   "metadata": {
    "scrolled": true
   },
   "outputs": [
    {
     "name": "stdout",
     "output_type": "stream",
     "text": [
      "['Blk 149 Bishan Green', '4 Room •Simplified • Built-1987', '84 sqm / $591 psf(Built)', '$535,000']\n",
      "['Blk 163 Bishan Street 13', '4 Room •Built-1988', '131 sqm / $695 psf(Built)', '$980,000']\n",
      "['Blk 109 Bishan View', '4 Room •Model A • Built-1985', '104 sqm / $623 psf(Built)', '$698,000']\n",
      "['Blk 148 Bishan Green', '4 Room •Built-1987', '122 sqm / $567 psf(Built)', '$745,000']\n",
      "['Blk 136 Bishan Green', '4 Room •Simplified • Built-1987', '92 sqm / $505 psf(Built)', '$499,999']\n",
      "['Blk 111 Bishan View', '4 Room •Simplified • Built-1986', '90 sqm / $676 psf(Built)', '$655,000']\n",
      "['Blk 248 Bishan Street 22', '4 Room •Model A • Built-1992', '114 sqm / $529 psf(Built)', '$650,000']\n",
      "['Blk 176 Bishan Street 13', '4 Room •Built-1988', '88 sqm / $718 psf(Built)', '$680,000']\n",
      "['Blk 185 Bishan Street 13', '4 Room •Simplified • Built-1988', '83 sqm / $705 psf(Built)', '$630,000']\n",
      "['Blk 252 Bishan Street 22', '4 Room •Model A • Built-1992', '104 sqm / $737 psf(Built)', '$825,000']\n",
      "['Blk 147 Bishan Street 11', '4 Room •Built-1987', '121 sqm / $692 psf(Built)', '$900,000']\n",
      "['Blk 111 Bishan View', '4 Room •Model A • Built-1986', '104 sqm / $526 psf(Built)', '$590,000']\n",
      "['Blk 292 Bishan Street 22', '4 Room •Model A • Built-1998', '100 sqm / $741 psf(Built)', '$798,000']\n",
      "['Blk 25 Sin Ming Road', '4 Room •Improved • Built-1974', '88 sqm / $480 psf(Built)', '$455,000']\n",
      "['Blk 289 Bishan Street 24', '4 Room •Model A • Built-1998', '102 sqm / $729 psf(Built)', '$800,000']\n",
      "['Blk 293 Bishan Street 22', '4 Room •Model A • Built-1998', '102 sqm / $711 psf(Built)', '$780,000']\n",
      "['Blk 441 Sin Ming Avenue', '4 Room •Model A • Built-1990', '114 sqm / $676 psf(Built)', '$830,000']\n",
      "['Blk 501 Bishan Street 11', '4 Room •Model A • Built-1989', '103 sqm / $602 psf(Built)', '$668,000']\n",
      "['Blk 266 Bishan Street 24', '4 Room •Model A • Built-1992', '112 sqm / $653 psf(Built)', '$788,000']\n",
      "['Blk 122 Bishan Street 12', '4 Room •Model A • Built-1986', '104 sqm / $603 psf(Built)', '$675,000']\n"
     ]
    }
   ],
   "source": [
    "soup = BeautifulSoup(webpage.content, 'html.parser')\n",
    "lists = soup.find_all('div', {'class':'row listingDetailsInfo'})\n",
    "\n",
    "for list in lists:\n",
    "    Title = list.find('a', {'class':'listingDetailTitle'}).text.replace('\\n', '').replace('\\t', '')\n",
    "    Type = list.find('div', {'class':'listingDetailType'}).text.replace('\\n', '').replace('\\t', '')\n",
    "    Values = list.find('div', {'listingDetailValues'}).text.replace('\\n', '').replace('\\t', '')\n",
    "    Price = list.find('div', {'listingDetailPrice adjusted-line-height'}).text.replace('\\n', '').replace('\\t', '')\n",
    "    info = [Title, Type, Values, Price]\n",
    "    print(info)"
   ]
  },
  {
   "cell_type": "code",
   "execution_count": 102,
   "id": "5ba59c92",
   "metadata": {},
   "outputs": [
    {
     "name": "stdout",
     "output_type": "stream",
     "text": [
      "['Blk 149 Bishan Green', '   1987', '84 sqm / $591 psf(Built)', '535000']\n",
      "['Blk 163 Bishan Street 13', ' 1988', '131 sqm / $695 psf(Built)', '980000']\n",
      "['Blk 109 Bishan View', '   1985', '104 sqm / $623 psf(Built)', '698000']\n",
      "['Blk 148 Bishan Green', ' 1987', '122 sqm / $567 psf(Built)', '745000']\n",
      "['Blk 136 Bishan Green', '   1987', '92 sqm / $505 psf(Built)', '499999']\n",
      "['Blk 111 Bishan View', '   1986', '90 sqm / $676 psf(Built)', '655000']\n",
      "['Blk 248 Bishan Street 22', '   1992', '114 sqm / $529 psf(Built)', '650000']\n",
      "['Blk 176 Bishan Street 13', ' 1988', '88 sqm / $718 psf(Built)', '680000']\n",
      "['Blk 185 Bishan Street 13', '   1988', '83 sqm / $705 psf(Built)', '630000']\n",
      "['Blk 252 Bishan Street 22', '   1992', '104 sqm / $737 psf(Built)', '825000']\n",
      "['Blk 147 Bishan Street 11', ' 1987', '121 sqm / $692 psf(Built)', '900000']\n",
      "['Blk 111 Bishan View', '   1986', '104 sqm / $526 psf(Built)', '590000']\n",
      "['Blk 292 Bishan Street 22', '   1998', '100 sqm / $741 psf(Built)', '798000']\n",
      "['Blk 25 Sin Ming Road', '   1974', '88 sqm / $480 psf(Built)', '455000']\n",
      "['Blk 289 Bishan Street 24', '   1998', '102 sqm / $729 psf(Built)', '800000']\n",
      "['Blk 293 Bishan Street 22', '   1998', '102 sqm / $711 psf(Built)', '780000']\n",
      "['Blk 441 Sin Ming Avenue', '   1990', '114 sqm / $676 psf(Built)', '830000']\n",
      "['Blk 501 Bishan Street 11', '   1989', '103 sqm / $602 psf(Built)', '668000']\n",
      "['Blk 266 Bishan Street 24', '   1992', '112 sqm / $653 psf(Built)', '788000']\n",
      "['Blk 122 Bishan Street 12', '   1986', '104 sqm / $603 psf(Built)', '675000']\n"
     ]
    }
   ],
   "source": [
    "soup = BeautifulSoup(webpage.content, 'html.parser')\n",
    "lists = soup.find_all('div', {'class':'row listingDetailsInfo'})\n",
    "\n",
    "for list in lists:\n",
    "    Title = list.find('a', {'class':'listingDetailTitle'}).text.replace('\\n', '').replace('\\t', '')\n",
    "    Type = list.find('div', {'class':'listingDetailType'}).text.replace('\\n', '').replace('\\t', '').replace('4 Room', '').replace('•', '').replace('New Generation', '').replace('Model A', '').replace('Simplified','').replace('Improved','').replace('Built-','').replace('Premium Apartment','')\n",
    "    Values = list.find('div', {'listingDetailValues'}).text.replace('\\n', '').replace('\\t', '')\n",
    "    Price = list.find('div', {'listingDetailPrice adjusted-line-height'}).text.replace('\\n', '').replace('\\t', '').replace('$','').replace(',','')\n",
    "    info = [Title, Type, Values, Price]\n",
    "    print(info)   \n"
   ]
  },
  {
   "cell_type": "markdown",
   "id": "ee952b45",
   "metadata": {},
   "source": [
    "Now that we have further removed from all the unnecessary data that is not needed for our analysis, we an now extract these data and export them to a csv file. "
   ]
  },
  {
   "cell_type": "markdown",
   "id": "e3e39179",
   "metadata": {},
   "source": [
    "### Export to csv file - Bishan "
   ]
  },
  {
   "cell_type": "code",
   "execution_count": 103,
   "id": "52fbdfec",
   "metadata": {},
   "outputs": [],
   "source": [
    "soup = BeautifulSoup(webpage.content, 'html.parser')\n",
    "lists = soup.find_all('div', {'class':'row listingDetailsInfo'})\n",
    "\n",
    "with open('bishan4R.csv', 'w', encoding='utf-8', newline='') as f: #open and closes automatically \n",
    "    thewriter = writer(f)  #f is the file function we give \n",
    "    header = ['Title', 'Type', 'Values', 'Price']\n",
    "    thewriter.writerow(header)\n",
    "    \n",
    "    for list in lists:\n",
    "        Title = list.find('a', {'class':'listingDetailTitle'}).text.replace('\\n', '').replace('\\t', '')\n",
    "        Type = list.find('div', {'class':'listingDetailType'}).text.replace('\\n', '').replace('\\t', '').replace('4 Room', '').replace('•', '').replace('New Generation', '').replace('Model A', '').replace('Simplified','').replace('Improved','').replace('Built-','').replace('Premium Apartment','')\n",
    "        Values = list.find('div', {'listingDetailValues'}).text.replace('\\n', '').replace('\\t', '')\n",
    "        Price = list.find('div', {'listingDetailPrice adjusted-line-height'}).text.replace('\\n', '').replace('\\t', '').replace('$', '').replace(',', '')\n",
    "        \n",
    "        info = [Title, Type, Values, Price]\n",
    "        thewriter.writerow(info)"
   ]
  },
  {
   "cell_type": "markdown",
   "id": "e9147420",
   "metadata": {},
   "source": [
    "This is the last step where the csv file has been created and has been exported into the file that we have created. "
   ]
  },
  {
   "cell_type": "markdown",
   "id": "94d3d0e1",
   "metadata": {},
   "source": [
    "#### Converting webscraping csv files into Dataframe - Bishan"
   ]
  },
  {
   "cell_type": "markdown",
   "id": "c653e71f",
   "metadata": {},
   "source": [
    "Now that we have scrape the data, it is time to make them into a dataframe format."
   ]
  },
  {
   "cell_type": "code",
   "execution_count": 104,
   "id": "de0a20c4",
   "metadata": {
    "scrolled": false
   },
   "outputs": [
    {
     "data": {
      "text/html": [
       "<div>\n",
       "<style scoped>\n",
       "    .dataframe tbody tr th:only-of-type {\n",
       "        vertical-align: middle;\n",
       "    }\n",
       "\n",
       "    .dataframe tbody tr th {\n",
       "        vertical-align: top;\n",
       "    }\n",
       "\n",
       "    .dataframe thead th {\n",
       "        text-align: right;\n",
       "    }\n",
       "</style>\n",
       "<table border=\"1\" class=\"dataframe\">\n",
       "  <thead>\n",
       "    <tr style=\"text-align: right;\">\n",
       "      <th></th>\n",
       "      <th>Title</th>\n",
       "      <th>Type</th>\n",
       "      <th>Values</th>\n",
       "      <th>Price</th>\n",
       "    </tr>\n",
       "  </thead>\n",
       "  <tbody>\n",
       "    <tr>\n",
       "      <th>0</th>\n",
       "      <td>Blk 149 Bishan Green</td>\n",
       "      <td>1987</td>\n",
       "      <td>84 sqm / $591 psf(Built)</td>\n",
       "      <td>535000</td>\n",
       "    </tr>\n",
       "    <tr>\n",
       "      <th>1</th>\n",
       "      <td>Blk 163 Bishan Street 13</td>\n",
       "      <td>1988</td>\n",
       "      <td>131 sqm / $695 psf(Built)</td>\n",
       "      <td>980000</td>\n",
       "    </tr>\n",
       "    <tr>\n",
       "      <th>2</th>\n",
       "      <td>Blk 109 Bishan View</td>\n",
       "      <td>1985</td>\n",
       "      <td>104 sqm / $623 psf(Built)</td>\n",
       "      <td>698000</td>\n",
       "    </tr>\n",
       "    <tr>\n",
       "      <th>3</th>\n",
       "      <td>Blk 148 Bishan Green</td>\n",
       "      <td>1987</td>\n",
       "      <td>122 sqm / $567 psf(Built)</td>\n",
       "      <td>745000</td>\n",
       "    </tr>\n",
       "    <tr>\n",
       "      <th>4</th>\n",
       "      <td>Blk 136 Bishan Green</td>\n",
       "      <td>1987</td>\n",
       "      <td>92 sqm / $505 psf(Built)</td>\n",
       "      <td>499999</td>\n",
       "    </tr>\n",
       "  </tbody>\n",
       "</table>\n",
       "</div>"
      ],
      "text/plain": [
       "                      Title  Type                     Values   Price\n",
       "0      Blk 149 Bishan Green  1987   84 sqm / $591 psf(Built)  535000\n",
       "1  Blk 163 Bishan Street 13  1988  131 sqm / $695 psf(Built)  980000\n",
       "2       Blk 109 Bishan View  1985  104 sqm / $623 psf(Built)  698000\n",
       "3      Blk 148 Bishan Green  1987  122 sqm / $567 psf(Built)  745000\n",
       "4      Blk 136 Bishan Green  1987   92 sqm / $505 psf(Built)  499999"
      ]
     },
     "execution_count": 104,
     "metadata": {},
     "output_type": "execute_result"
    }
   ],
   "source": [
    "import pandas as pd\n",
    "import numpy as np \n",
    "\n",
    "bishan = pd.read_csv('bishan4R.csv')\n",
    "bishan = bishan[['Title', 'Type', 'Values', 'Price']]\n",
    "bishan.head()\n"
   ]
  },
  {
   "cell_type": "code",
   "execution_count": 105,
   "id": "ae2bf920",
   "metadata": {},
   "outputs": [
    {
     "data": {
      "text/html": [
       "<div>\n",
       "<style scoped>\n",
       "    .dataframe tbody tr th:only-of-type {\n",
       "        vertical-align: middle;\n",
       "    }\n",
       "\n",
       "    .dataframe tbody tr th {\n",
       "        vertical-align: top;\n",
       "    }\n",
       "\n",
       "    .dataframe thead th {\n",
       "        text-align: right;\n",
       "    }\n",
       "</style>\n",
       "<table border=\"1\" class=\"dataframe\">\n",
       "  <thead>\n",
       "    <tr style=\"text-align: right;\">\n",
       "      <th></th>\n",
       "      <th>Title</th>\n",
       "      <th>Type</th>\n",
       "      <th>Values</th>\n",
       "      <th>Price</th>\n",
       "    </tr>\n",
       "  </thead>\n",
       "  <tbody>\n",
       "    <tr>\n",
       "      <th>0</th>\n",
       "      <td>Blk 149 Bishan Green</td>\n",
       "      <td>1987</td>\n",
       "      <td>84 sqm / $591 psf(Built)</td>\n",
       "      <td>535000</td>\n",
       "    </tr>\n",
       "    <tr>\n",
       "      <th>1</th>\n",
       "      <td>Blk 163 Bishan Street 13</td>\n",
       "      <td>1988</td>\n",
       "      <td>131 sqm / $695 psf(Built)</td>\n",
       "      <td>980000</td>\n",
       "    </tr>\n",
       "    <tr>\n",
       "      <th>2</th>\n",
       "      <td>Blk 109 Bishan View</td>\n",
       "      <td>1985</td>\n",
       "      <td>104 sqm / $623 psf(Built)</td>\n",
       "      <td>698000</td>\n",
       "    </tr>\n",
       "    <tr>\n",
       "      <th>3</th>\n",
       "      <td>Blk 148 Bishan Green</td>\n",
       "      <td>1987</td>\n",
       "      <td>122 sqm / $567 psf(Built)</td>\n",
       "      <td>745000</td>\n",
       "    </tr>\n",
       "    <tr>\n",
       "      <th>4</th>\n",
       "      <td>Blk 136 Bishan Green</td>\n",
       "      <td>1987</td>\n",
       "      <td>92 sqm / $505 psf(Built)</td>\n",
       "      <td>499999</td>\n",
       "    </tr>\n",
       "    <tr>\n",
       "      <th>5</th>\n",
       "      <td>Blk 111 Bishan View</td>\n",
       "      <td>1986</td>\n",
       "      <td>90 sqm / $676 psf(Built)</td>\n",
       "      <td>655000</td>\n",
       "    </tr>\n",
       "    <tr>\n",
       "      <th>6</th>\n",
       "      <td>Blk 248 Bishan Street 22</td>\n",
       "      <td>1992</td>\n",
       "      <td>114 sqm / $529 psf(Built)</td>\n",
       "      <td>650000</td>\n",
       "    </tr>\n",
       "    <tr>\n",
       "      <th>7</th>\n",
       "      <td>Blk 176 Bishan Street 13</td>\n",
       "      <td>1988</td>\n",
       "      <td>88 sqm / $718 psf(Built)</td>\n",
       "      <td>680000</td>\n",
       "    </tr>\n",
       "    <tr>\n",
       "      <th>8</th>\n",
       "      <td>Blk 185 Bishan Street 13</td>\n",
       "      <td>1988</td>\n",
       "      <td>83 sqm / $705 psf(Built)</td>\n",
       "      <td>630000</td>\n",
       "    </tr>\n",
       "    <tr>\n",
       "      <th>9</th>\n",
       "      <td>Blk 252 Bishan Street 22</td>\n",
       "      <td>1992</td>\n",
       "      <td>104 sqm / $737 psf(Built)</td>\n",
       "      <td>825000</td>\n",
       "    </tr>\n",
       "    <tr>\n",
       "      <th>10</th>\n",
       "      <td>Blk 147 Bishan Street 11</td>\n",
       "      <td>1987</td>\n",
       "      <td>121 sqm / $692 psf(Built)</td>\n",
       "      <td>900000</td>\n",
       "    </tr>\n",
       "    <tr>\n",
       "      <th>11</th>\n",
       "      <td>Blk 111 Bishan View</td>\n",
       "      <td>1986</td>\n",
       "      <td>104 sqm / $526 psf(Built)</td>\n",
       "      <td>590000</td>\n",
       "    </tr>\n",
       "    <tr>\n",
       "      <th>12</th>\n",
       "      <td>Blk 292 Bishan Street 22</td>\n",
       "      <td>1998</td>\n",
       "      <td>100 sqm / $741 psf(Built)</td>\n",
       "      <td>798000</td>\n",
       "    </tr>\n",
       "    <tr>\n",
       "      <th>13</th>\n",
       "      <td>Blk 25 Sin Ming Road</td>\n",
       "      <td>1974</td>\n",
       "      <td>88 sqm / $480 psf(Built)</td>\n",
       "      <td>455000</td>\n",
       "    </tr>\n",
       "    <tr>\n",
       "      <th>14</th>\n",
       "      <td>Blk 289 Bishan Street 24</td>\n",
       "      <td>1998</td>\n",
       "      <td>102 sqm / $729 psf(Built)</td>\n",
       "      <td>800000</td>\n",
       "    </tr>\n",
       "    <tr>\n",
       "      <th>15</th>\n",
       "      <td>Blk 293 Bishan Street 22</td>\n",
       "      <td>1998</td>\n",
       "      <td>102 sqm / $711 psf(Built)</td>\n",
       "      <td>780000</td>\n",
       "    </tr>\n",
       "    <tr>\n",
       "      <th>16</th>\n",
       "      <td>Blk 441 Sin Ming Avenue</td>\n",
       "      <td>1990</td>\n",
       "      <td>114 sqm / $676 psf(Built)</td>\n",
       "      <td>830000</td>\n",
       "    </tr>\n",
       "    <tr>\n",
       "      <th>17</th>\n",
       "      <td>Blk 501 Bishan Street 11</td>\n",
       "      <td>1989</td>\n",
       "      <td>103 sqm / $602 psf(Built)</td>\n",
       "      <td>668000</td>\n",
       "    </tr>\n",
       "    <tr>\n",
       "      <th>18</th>\n",
       "      <td>Blk 266 Bishan Street 24</td>\n",
       "      <td>1992</td>\n",
       "      <td>112 sqm / $653 psf(Built)</td>\n",
       "      <td>788000</td>\n",
       "    </tr>\n",
       "    <tr>\n",
       "      <th>19</th>\n",
       "      <td>Blk 122 Bishan Street 12</td>\n",
       "      <td>1986</td>\n",
       "      <td>104 sqm / $603 psf(Built)</td>\n",
       "      <td>675000</td>\n",
       "    </tr>\n",
       "  </tbody>\n",
       "</table>\n",
       "</div>"
      ],
      "text/plain": [
       "                       Title  Type                     Values   Price\n",
       "0       Blk 149 Bishan Green  1987   84 sqm / $591 psf(Built)  535000\n",
       "1   Blk 163 Bishan Street 13  1988  131 sqm / $695 psf(Built)  980000\n",
       "2        Blk 109 Bishan View  1985  104 sqm / $623 psf(Built)  698000\n",
       "3       Blk 148 Bishan Green  1987  122 sqm / $567 psf(Built)  745000\n",
       "4       Blk 136 Bishan Green  1987   92 sqm / $505 psf(Built)  499999\n",
       "5        Blk 111 Bishan View  1986   90 sqm / $676 psf(Built)  655000\n",
       "6   Blk 248 Bishan Street 22  1992  114 sqm / $529 psf(Built)  650000\n",
       "7   Blk 176 Bishan Street 13  1988   88 sqm / $718 psf(Built)  680000\n",
       "8   Blk 185 Bishan Street 13  1988   83 sqm / $705 psf(Built)  630000\n",
       "9   Blk 252 Bishan Street 22  1992  104 sqm / $737 psf(Built)  825000\n",
       "10  Blk 147 Bishan Street 11  1987  121 sqm / $692 psf(Built)  900000\n",
       "11       Blk 111 Bishan View  1986  104 sqm / $526 psf(Built)  590000\n",
       "12  Blk 292 Bishan Street 22  1998  100 sqm / $741 psf(Built)  798000\n",
       "13      Blk 25 Sin Ming Road  1974   88 sqm / $480 psf(Built)  455000\n",
       "14  Blk 289 Bishan Street 24  1998  102 sqm / $729 psf(Built)  800000\n",
       "15  Blk 293 Bishan Street 22  1998  102 sqm / $711 psf(Built)  780000\n",
       "16   Blk 441 Sin Ming Avenue  1990  114 sqm / $676 psf(Built)  830000\n",
       "17  Blk 501 Bishan Street 11  1989  103 sqm / $602 psf(Built)  668000\n",
       "18  Blk 266 Bishan Street 24  1992  112 sqm / $653 psf(Built)  788000\n",
       "19  Blk 122 Bishan Street 12  1986  104 sqm / $603 psf(Built)  675000"
      ]
     },
     "execution_count": 105,
     "metadata": {},
     "output_type": "execute_result"
    }
   ],
   "source": [
    "bishan"
   ]
  },
  {
   "cell_type": "markdown",
   "id": "0b179c69",
   "metadata": {},
   "source": [
    "### 2.2.2 Webscraping Yishun 4R flat at a Non-mature estate "
   ]
  },
  {
   "cell_type": "markdown",
   "id": "f3831a1b",
   "metadata": {},
   "source": [
    "Everything else repeats the same as how we did for Bishan."
   ]
  },
  {
   "cell_type": "markdown",
   "id": "4301623c",
   "metadata": {},
   "source": [
    "#### Importing the library"
   ]
  },
  {
   "cell_type": "code",
   "execution_count": 106,
   "id": "ee3191da",
   "metadata": {},
   "outputs": [],
   "source": [
    "import pandas as pd \n",
    "import numpy as np \n",
    "import seaborn as sns\n",
    "import requests  \n",
    "from csv import writer\n",
    "from bs4 import BeautifulSoup\n",
    "import matplotlib.pyplot as plt"
   ]
  },
  {
   "cell_type": "markdown",
   "id": "20576298",
   "metadata": {},
   "source": [
    "#### Get the url"
   ]
  },
  {
   "cell_type": "code",
   "execution_count": 107,
   "id": "af17e5d4",
   "metadata": {},
   "outputs": [],
   "source": [
    "#Yishun 4-room flat \n",
    "url = \"https://www.stproperty.sg/singapore-property-listings/hdb-for-sale?cdResearchSubTypes=2&selectedHdbTownIds=27\""
   ]
  },
  {
   "cell_type": "markdown",
   "id": "1a77f267",
   "metadata": {},
   "source": [
    "#### Make a requests to the website"
   ]
  },
  {
   "cell_type": "markdown",
   "id": "4fdbf596",
   "metadata": {},
   "source": [
    "If response is 200 means that we are good to go."
   ]
  },
  {
   "cell_type": "code",
   "execution_count": 108,
   "id": "ff6c1229",
   "metadata": {},
   "outputs": [
    {
     "name": "stdout",
     "output_type": "stream",
     "text": [
      "<Response [200]>\n"
     ]
    }
   ],
   "source": [
    "page = requests.get(url)\n",
    "print(page)"
   ]
  },
  {
   "cell_type": "markdown",
   "id": "ad3e6c62",
   "metadata": {},
   "source": [
    "#### Make functions to scrape the data "
   ]
  },
  {
   "cell_type": "markdown",
   "id": "7ca20793",
   "metadata": {},
   "source": [
    "In this section, we will create an object soup and we will extract the target HDB flat data from the entire HTML data obtained by soup. There are 4 target columns that we will extract and they are as follows: \n",
    "\n",
    "1. Title - Address of the HDB flat \n",
    "2. Type - The year the HDB is constructed in \n",
    "3. Values - The details of the HDB flat \n",
    "4. Price - HDB flat price "
   ]
  },
  {
   "cell_type": "code",
   "execution_count": 109,
   "id": "5355b983",
   "metadata": {},
   "outputs": [
    {
     "name": "stdout",
     "output_type": "stream",
     "text": [
      "[<a class=\"listingDetailTitle\" href=\"/listings/98348191/for-sale-yishun-central-yishun-central\" target=\"_blank\">\n",
      "<span class=\"notranslate\">Blk 302 Yishun Central</span>\n",
      "</a>, <div class=\"listingDetailType\">\n",
      "<span>4 Room</span> <span>•</span>\n",
      "\t\t\t\t\t\t\tModel A <span>•</span> <span>Built-1988</span>\n",
      "</div>, <div class=\"listingDetailValues\">\n",
      "\t\t\t\t\t\t\t\t\t104 sqm / $464 psf(Built)</div>, <div class=\"listingDetailPrice adjusted-line-height\">\n",
      "\t\t\t\t\t\t\t\t\t$520,000</div>]\n",
      "[<a class=\"listingDetailTitle\" href=\"/listings/98206241/for-sale-angsana-breeze-yishun-4a-506c-yishun-ave-4\" target=\"_blank\">\n",
      "<span class=\"notranslate\">Blk 506C Angsana Breeze @ Yishun</span>\n",
      "</a>, <div class=\"listingDetailType\">\n",
      "<span>4 Room</span> <span>•</span>\n",
      "\t\t\t\t\t\t\tModel A <span>•</span> <span>Built-2018</span>\n",
      "</div>, <div class=\"listingDetailValues\">\n",
      "\t\t\t\t\t\t\t\t\t93 sqm / $564 psf(Built)</div>, <div class=\"listingDetailPrice adjusted-line-height\">\n",
      "\t\t\t\t\t\t\t\t\t$565,000</div>]\n",
      "[<a class=\"listingDetailTitle\" href=\"/listings/98246811/for-sale-yishun-street-22-corner-unit-don-t-miss-simple-move-in-must-view\" target=\"_blank\">\n",
      "<span class=\"notranslate\">Blk 264 Yishun Street 22</span>\n",
      "</a>, <div class=\"listingDetailType\">\n",
      "<span>4 Room</span> <span>•</span>\n",
      "\t\t\t\t\t\t\tModel A <span>•</span> <span>Built-1986</span>\n",
      "</div>, <div class=\"listingDetailValues\">\n",
      "\t\t\t\t\t\t\t\t\t104 sqm / $442 psf(Built)</div>, <div class=\"listingDetailPrice adjusted-line-height\">\n",
      "\t\t\t\t\t\t\t\t\t$494,900</div>]\n",
      "[<a class=\"listingDetailTitle\" href=\"/listings/98185551/for-sale-yishun-ring-road-yishun-ring-road\" target=\"_blank\">\n",
      "<span class=\"notranslate\">Blk 312 Yishun Ring Road</span>\n",
      "</a>, <div class=\"listingDetailType\">\n",
      "<span>4 Room</span> <span>•</span>\n",
      "\t\t\t\t\t\t\tSimplified <span>•</span> <span>Built-1987</span>\n",
      "</div>, <div class=\"listingDetailValues\">\n",
      "\t\t\t\t\t\t\t\t\t84 sqm / $470 psf(Built)</div>, <div class=\"listingDetailPrice adjusted-line-height\">\n",
      "\t\t\t\t\t\t\t\t\t$425,000</div>]\n",
      "[<a class=\"listingDetailTitle\" href=\"/listings/98434661/for-sale-yishun-ring-road-yishun-ring-road\" target=\"_blank\">\n",
      "<span class=\"notranslate\">Blk 117 Yishun Ring Road</span>\n",
      "</a>, <div class=\"listingDetailType\">\n",
      "<span>4 Room</span> <span>•</span>\n",
      "<span>Built-1983</span>\n",
      "</div>, <div class=\"listingDetailValues\">\n",
      "\t\t\t\t\t\t\t\t\t104 sqm / $428 psf(Built)</div>, <div class=\"listingDetailPrice adjusted-line-height\">\n",
      "\t\t\t\t\t\t\t\t\t$480,000</div>]\n",
      "[<a class=\"listingDetailTitle\" href=\"/listings/96940541/for-sale-adora-green-yishun-avenue-11\" target=\"_blank\">\n",
      "<span class=\"notranslate\">Blk 348A Adora Green</span>\n",
      "</a>, <div class=\"listingDetailType\">\n",
      "<span>4 Room</span> <span>•</span>\n",
      "\t\t\t\t\t\t\tPremium Apartment <span>•</span> <span>Built-2013</span>\n",
      "</div>, <div class=\"listingDetailValues\">\n",
      "\t\t\t\t\t\t\t\t\t92 sqm / $656 psf(Built)</div>, <div class=\"listingDetailPrice adjusted-line-height\">\n",
      "\t\t\t\t\t\t\t\t\t$650,000</div>]\n",
      "[<a class=\"listingDetailTitle\" href=\"/listings/98140291/for-sale-yishun-avenue-6-unbelievable-deal-xvalue-close-to-selling-price\" target=\"_blank\">\n",
      "<span class=\"notranslate\">Blk 407 Yishun Avenue 6</span>\n",
      "</a>, <div class=\"listingDetailType\">\n",
      "<span>4 Room</span> <span>•</span>\n",
      "\t\t\t\t\t\t\tSimplified <span>•</span> <span>Built-1988</span>\n",
      "</div>, <div class=\"listingDetailValues\">\n",
      "\t\t\t\t\t\t\t\t\t84 sqm / $448 psf(Built)</div>, <div class=\"listingDetailPrice adjusted-line-height\">\n",
      "\t\t\t\t\t\t\t\t\t$405,000</div>]\n",
      "[<a class=\"listingDetailTitle\" href=\"/listings/98311361/for-sale-yishun-avenue-11-yishun-avenue-11\" target=\"_blank\">\n",
      "<span class=\"notranslate\">Blk 346 Yishun Avenue 11</span>\n",
      "</a>, <div class=\"listingDetailType\">\n",
      "<span>4 Room</span> <span>•</span>\n",
      "<span>Built-1988</span>\n",
      "</div>, <div class=\"listingDetailValues\">\n",
      "\t\t\t\t\t\t\t\t\t104 sqm / $420 psf(Built)</div>, <div class=\"listingDetailPrice adjusted-line-height\">\n",
      "\t\t\t\t\t\t\t\t\t$470,000</div>]\n",
      "[<a class=\"listingDetailTitle\" href=\"/listings/97757581/for-sale-yishun-street-81-4-room-a-model-blk870-yishun-mid-floor-reno\" target=\"_blank\">\n",
      "<span class=\"notranslate\">Blk 870 Yishun Street 81</span>\n",
      "</a>, <div class=\"listingDetailType\">\n",
      "<span>4 Room</span> <span>•</span>\n",
      "\t\t\t\t\t\t\tModel A <span>•</span> <span>Built-1987</span>\n",
      "</div>, <div class=\"listingDetailValues\">\n",
      "\t\t\t\t\t\t\t\t\t104 sqm / $464 psf(Built)</div>, <div class=\"listingDetailPrice adjusted-line-height\">\n",
      "\t\t\t\t\t\t\t\t\t$520,000</div>]\n",
      "[<a class=\"listingDetailTitle\" href=\"/listings/97757591/for-sale-yishun-street-81-yishun-street-81\" target=\"_blank\">\n",
      "<span class=\"notranslate\">Blk 870 Yishun Street 81</span>\n",
      "</a>, <div class=\"listingDetailType\">\n",
      "<span>4 Room</span> <span>•</span>\n",
      "\t\t\t\t\t\t\tModel A <span>•</span> <span>Built-1987</span>\n",
      "</div>, <div class=\"listingDetailValues\">\n",
      "\t\t\t\t\t\t\t\t\t104 sqm / $464 psf(Built)</div>, <div class=\"listingDetailPrice adjusted-line-height\">\n",
      "\t\t\t\t\t\t\t\t\t$520,000</div>]\n",
      "[<a class=\"listingDetailTitle\" href=\"/listings/98341921/for-sale-yishun-central-yishun-central\" target=\"_blank\">\n",
      "<span class=\"notranslate\">Blk 304 Yishun Central</span>\n",
      "</a>, <div class=\"listingDetailType\">\n",
      "<span>4 Room</span> <span>•</span>\n",
      "\t\t\t\t\t\t\tModel A <span>•</span> <span>Built-1988</span>\n",
      "</div>, <div class=\"listingDetailValues\">\n",
      "\t\t\t\t\t\t\t\t\t104 sqm / $487 psf(Built)</div>, <div class=\"listingDetailPrice adjusted-line-height\">\n",
      "\t\t\t\t\t\t\t\t\t$545,000</div>]\n",
      "[<a class=\"listingDetailTitle\" href=\"/listings/97982981/for-sale-yishun-street-81-yishun-street-81\" target=\"_blank\">\n",
      "<span class=\"notranslate\">Blk 838 Yishun Street 81</span>\n",
      "</a>, <div class=\"listingDetailType\">\n",
      "<span>4 Room</span> <span>•</span>\n",
      "\t\t\t\t\t\t\tModel A <span>•</span> <span>Built-1987</span>\n",
      "</div>, <div class=\"listingDetailValues\">\n",
      "\t\t\t\t\t\t\t\t\t104 sqm / $534 psf(Built)</div>, <div class=\"listingDetailPrice adjusted-line-height\">\n",
      "\t\t\t\t\t\t\t\t\t$598,000</div>]\n",
      "[<a class=\"listingDetailTitle\" href=\"/listings/96629621/for-sale-yishun-street-81-yishun-street-81\" target=\"_blank\">\n",
      "<span class=\"notranslate\">Blk 817 Yishun Street 81</span>\n",
      "</a>, <div class=\"listingDetailType\">\n",
      "<span>4 Room</span> <span>•</span>\n",
      "\t\t\t\t\t\t\tModel A <span>•</span> <span>Built-1987</span>\n",
      "</div>, <div class=\"listingDetailValues\">\n",
      "\t\t\t\t\t\t\t\t\t104 sqm / $445 psf(Built)</div>, <div class=\"listingDetailPrice adjusted-line-height\">\n",
      "\t\t\t\t\t\t\t\t\t$499,000</div>]\n",
      "[<a class=\"listingDetailTitle\" href=\"/listings/98082071/for-sale-park-grove-yishun-yishun-ring-road\" target=\"_blank\">\n",
      "<span class=\"notranslate\">Blk 676B Park Grove @ Yishun</span>\n",
      "</a>, <div class=\"listingDetailType\">\n",
      "<span>4 Room</span> <span>•</span>\n",
      "<span>Built-2017</span>\n",
      "</div>, <div class=\"listingDetailValues\">\n",
      "\t\t\t\t\t\t\t\t\t93 sqm / $574 psf(Built)</div>, <div class=\"listingDetailPrice adjusted-line-height\">\n",
      "\t\t\t\t\t\t\t\t\t$575,000</div>]\n",
      "[<a class=\"listingDetailTitle\" href=\"/listings/98195661/for-sale-yishun-street-22-yishun-street-22\" target=\"_blank\">\n",
      "<span class=\"notranslate\">Blk 269 Yishun Street 22</span>\n",
      "</a>, <div class=\"listingDetailType\">\n",
      "<span>4 Room</span> <span>•</span>\n",
      "\t\t\t\t\t\t\tSimplified <span>•</span> <span>Built-1988</span>\n",
      "</div>, <div class=\"listingDetailValues\">\n",
      "\t\t\t\t\t\t\t\t\t84 sqm / $495 psf(Built)</div>, <div class=\"listingDetailPrice adjusted-line-height\">\n",
      "\t\t\t\t\t\t\t\t\t$448,000</div>]\n",
      "[<a class=\"listingDetailTitle\" href=\"/listings/98147991/for-sale-yishun-avenue-6-yishun-avenue-6\" target=\"_blank\">\n",
      "<span class=\"notranslate\">Blk 403 Yishun Avenue 6</span>\n",
      "</a>, <div class=\"listingDetailType\">\n",
      "<span>4 Room</span> <span>•</span>\n",
      "\t\t\t\t\t\t\tSimplified <span>•</span> <span>Built-1988</span>\n",
      "</div>, <div class=\"listingDetailValues\">\n",
      "\t\t\t\t\t\t\t\t\t84 sqm / $475 psf(Built)</div>, <div class=\"listingDetailPrice adjusted-line-height\">\n",
      "\t\t\t\t\t\t\t\t\t$430,000</div>]\n",
      "[<a class=\"listingDetailTitle\" href=\"/listings/97908291/for-sale-park-grove-yishun-yishun-ring-road\" target=\"_blank\">\n",
      "<span class=\"notranslate\">Blk 676A Park Grove @ Yishun</span>\n",
      "</a>, <div class=\"listingDetailType\">\n",
      "<span>4 Room</span> <span>•</span>\n",
      "\t\t\t\t\t\t\tModel A <span>•</span> <span>Built-2017</span>\n",
      "</div>, <div class=\"listingDetailValues\">\n",
      "\t\t\t\t\t\t\t\t\t93 sqm / $579 psf(Built)</div>, <div class=\"listingDetailPrice adjusted-line-height\">\n",
      "\t\t\t\t\t\t\t\t\t$580,000</div>]\n",
      "[<a class=\"listingDetailTitle\" href=\"/listings/97873591/for-sale-yishun-avenue-11-yishun-avenue-11\" target=\"_blank\">\n",
      "<span class=\"notranslate\">Blk 446 Yishun Avenue 11</span>\n",
      "</a>, <div class=\"listingDetailType\">\n",
      "<span>4 Room</span> <span>•</span>\n",
      "\t\t\t\t\t\t\tModel A <span>•</span> <span>Built-2012</span>\n",
      "</div>, <div class=\"listingDetailValues\">\n",
      "\t\t\t\t\t\t\t\t\t92 sqm / $543 psf(Built)</div>, <div class=\"listingDetailPrice adjusted-line-height\">\n",
      "\t\t\t\t\t\t\t\t\t$538,000</div>]\n",
      "[<a class=\"listingDetailTitle\" href=\"/listings/97873661/for-sale-yishun-avenue-11-yishun-avenue-11\" target=\"_blank\">\n",
      "<span class=\"notranslate\">Blk 349 Yishun Avenue 11</span>\n",
      "</a>, <div class=\"listingDetailType\">\n",
      "<span>4 Room</span> <span>•</span>\n",
      "\t\t\t\t\t\t\tModel A <span>•</span> <span>Built-1988</span>\n",
      "</div>, <div class=\"listingDetailValues\">\n",
      "\t\t\t\t\t\t\t\t\t108 sqm / $417 psf(Built)</div>, <div class=\"listingDetailPrice adjusted-line-height\">\n",
      "\t\t\t\t\t\t\t\t\t$485,000</div>]\n",
      "[<a class=\"listingDetailTitle\" href=\"/listings/98428711/for-sale-yishun-avenue-6-yishun-avenue-6\" target=\"_blank\">\n",
      "<span class=\"notranslate\">Blk 287 Yishun Avenue 6</span>\n",
      "</a>, <div class=\"listingDetailType\">\n",
      "<span>4 Room</span> <span>•</span>\n",
      "\t\t\t\t\t\t\tModel A <span>•</span> <span>Built-1985</span>\n",
      "</div>, <div class=\"listingDetailValues\">\n",
      "\t\t\t\t\t\t\t\t\t104 sqm / $445 psf(Built)</div>, <div class=\"listingDetailPrice adjusted-line-height\">\n",
      "\t\t\t\t\t\t\t\t\t$499,000</div>]\n"
     ]
    }
   ],
   "source": [
    "soup = BeautifulSoup(page.content, 'html.parser')\n",
    "lists = soup.find_all('div', {'class':'row listingDetailsInfo'})\n",
    "\n",
    "for list in lists:\n",
    "    Title = list.find('a', {'class':'listingDetailTitle'})\n",
    "    Type = list.find('div', {'class':'listingDetailType'})\n",
    "    Values = list.find('div', {'listingDetailValues'})\n",
    "    Price = list.find('div', {'listingDetailPrice adjusted-line-height'})\n",
    "    info = [Title, Type, Values, Price]\n",
    "    print(info)"
   ]
  },
  {
   "cell_type": "markdown",
   "id": "26234280",
   "metadata": {},
   "source": [
    "Now that we have webscrape our dataset into python, we can start to clear and clean all unnecessary informations that we do not need in our dataset. To make our dataset more neat and clean, so that it is easily readable and can be used for plotting at a later stage.  "
   ]
  },
  {
   "cell_type": "markdown",
   "id": "f366b2dd",
   "metadata": {},
   "source": [
    "#### Remove all unnecessary informations - Cleaning and data processing"
   ]
  },
  {
   "cell_type": "code",
   "execution_count": 110,
   "id": "8dc21eba",
   "metadata": {},
   "outputs": [
    {
     "name": "stdout",
     "output_type": "stream",
     "text": [
      "['Blk 302 Yishun Central', '4 Room •Model A • Built-1988', '104 sqm / $464 psf(Built)', '$520,000']\n",
      "['Blk 506C Angsana Breeze @ Yishun', '4 Room •Model A • Built-2018', '93 sqm / $564 psf(Built)', '$565,000']\n",
      "['Blk 264 Yishun Street 22', '4 Room •Model A • Built-1986', '104 sqm / $442 psf(Built)', '$494,900']\n",
      "['Blk 312 Yishun Ring Road', '4 Room •Simplified • Built-1987', '84 sqm / $470 psf(Built)', '$425,000']\n",
      "['Blk 117 Yishun Ring Road', '4 Room •Built-1983', '104 sqm / $428 psf(Built)', '$480,000']\n",
      "['Blk 348A Adora Green', '4 Room •Premium Apartment • Built-2013', '92 sqm / $656 psf(Built)', '$650,000']\n",
      "['Blk 407 Yishun Avenue 6', '4 Room •Simplified • Built-1988', '84 sqm / $448 psf(Built)', '$405,000']\n",
      "['Blk 346 Yishun Avenue 11', '4 Room •Built-1988', '104 sqm / $420 psf(Built)', '$470,000']\n",
      "['Blk 870 Yishun Street 81', '4 Room •Model A • Built-1987', '104 sqm / $464 psf(Built)', '$520,000']\n",
      "['Blk 870 Yishun Street 81', '4 Room •Model A • Built-1987', '104 sqm / $464 psf(Built)', '$520,000']\n",
      "['Blk 304 Yishun Central', '4 Room •Model A • Built-1988', '104 sqm / $487 psf(Built)', '$545,000']\n",
      "['Blk 838 Yishun Street 81', '4 Room •Model A • Built-1987', '104 sqm / $534 psf(Built)', '$598,000']\n",
      "['Blk 817 Yishun Street 81', '4 Room •Model A • Built-1987', '104 sqm / $445 psf(Built)', '$499,000']\n",
      "['Blk 676B Park Grove @ Yishun', '4 Room •Built-2017', '93 sqm / $574 psf(Built)', '$575,000']\n",
      "['Blk 269 Yishun Street 22', '4 Room •Simplified • Built-1988', '84 sqm / $495 psf(Built)', '$448,000']\n",
      "['Blk 403 Yishun Avenue 6', '4 Room •Simplified • Built-1988', '84 sqm / $475 psf(Built)', '$430,000']\n",
      "['Blk 676A Park Grove @ Yishun', '4 Room •Model A • Built-2017', '93 sqm / $579 psf(Built)', '$580,000']\n",
      "['Blk 446 Yishun Avenue 11', '4 Room •Model A • Built-2012', '92 sqm / $543 psf(Built)', '$538,000']\n",
      "['Blk 349 Yishun Avenue 11', '4 Room •Model A • Built-1988', '108 sqm / $417 psf(Built)', '$485,000']\n",
      "['Blk 287 Yishun Avenue 6', '4 Room •Model A • Built-1985', '104 sqm / $445 psf(Built)', '$499,000']\n"
     ]
    }
   ],
   "source": [
    "soup = BeautifulSoup(page.content, 'html.parser')\n",
    "lists = soup.find_all('div', {'class':'row listingDetailsInfo'})\n",
    "\n",
    "for list in lists:\n",
    "    Title = list.find('a', {'class':'listingDetailTitle'}).text.replace('\\n', '').replace('\\t', '')\n",
    "    Type = list.find('div', {'class':'listingDetailType'}).text.replace('\\n', '').replace('\\t', '')\n",
    "    Values = list.find('div', {'listingDetailValues'}).text.replace('\\n', '').replace('\\t', '')\n",
    "    Price = list.find('div', {'listingDetailPrice adjusted-line-height'}).text.replace('\\n', '').replace('\\t', '')\n",
    "    info = [Title, Type, Values, Price]\n",
    "    print(info)"
   ]
  },
  {
   "cell_type": "code",
   "execution_count": 111,
   "id": "54e0e390",
   "metadata": {},
   "outputs": [
    {
     "name": "stdout",
     "output_type": "stream",
     "text": [
      "['Blk 302 Yishun Central', '   1988', '104 sqm / $464 psf(Built)', '520000']\n",
      "['Blk 506C Angsana Breeze @ Yishun', '   2018', '93 sqm / $564 psf(Built)', '565000']\n",
      "['Blk 264 Yishun Street 22', '   1986', '104 sqm / $442 psf(Built)', '494900']\n",
      "['Blk 312 Yishun Ring Road', '   1987', '84 sqm / $470 psf(Built)', '425000']\n",
      "['Blk 117 Yishun Ring Road', ' 1983', '104 sqm / $428 psf(Built)', '480000']\n",
      "['Blk 348A Adora Green', '   2013', '92 sqm / $656 psf(Built)', '650000']\n",
      "['Blk 407 Yishun Avenue 6', '   1988', '84 sqm / $448 psf(Built)', '405000']\n",
      "['Blk 346 Yishun Avenue 11', ' 1988', '104 sqm / $420 psf(Built)', '470000']\n",
      "['Blk 870 Yishun Street 81', '   1987', '104 sqm / $464 psf(Built)', '520000']\n",
      "['Blk 870 Yishun Street 81', '   1987', '104 sqm / $464 psf(Built)', '520000']\n",
      "['Blk 304 Yishun Central', '   1988', '104 sqm / $487 psf(Built)', '545000']\n",
      "['Blk 838 Yishun Street 81', '   1987', '104 sqm / $534 psf(Built)', '598000']\n",
      "['Blk 817 Yishun Street 81', '   1987', '104 sqm / $445 psf(Built)', '499000']\n",
      "['Blk 676B Park Grove @ Yishun', ' 2017', '93 sqm / $574 psf(Built)', '575000']\n",
      "['Blk 269 Yishun Street 22', '   1988', '84 sqm / $495 psf(Built)', '448000']\n",
      "['Blk 403 Yishun Avenue 6', '   1988', '84 sqm / $475 psf(Built)', '430000']\n",
      "['Blk 676A Park Grove @ Yishun', '   2017', '93 sqm / $579 psf(Built)', '580000']\n",
      "['Blk 446 Yishun Avenue 11', '   2012', '92 sqm / $543 psf(Built)', '538000']\n",
      "['Blk 349 Yishun Avenue 11', '   1988', '108 sqm / $417 psf(Built)', '485000']\n",
      "['Blk 287 Yishun Avenue 6', '   1985', '104 sqm / $445 psf(Built)', '499000']\n"
     ]
    }
   ],
   "source": [
    "soup = BeautifulSoup(page.content, 'html.parser')\n",
    "lists = soup.find_all('div', {'class':'row listingDetailsInfo'})\n",
    "\n",
    "for list in lists:\n",
    "    Title = list.find('a', {'class':'listingDetailTitle'}).text.replace('\\n', '').replace('\\t', '')\n",
    "    Type = list.find('div', {'class':'listingDetailType'}).text.replace('\\n', '').replace('\\t', '').replace('4 Room', '').replace('•', '').replace('New Generation', '').replace('Model A', '').replace('Simplified','').replace('Improved','').replace('Built-','').replace('Premium Apartment','')\n",
    "    Values = list.find('div', {'listingDetailValues'}).text.replace('\\n', '').replace('\\t', '')\n",
    "    Price = list.find('div', {'listingDetailPrice adjusted-line-height'}).text.replace('\\n', '').replace('\\t', '').replace('$', '').replace(',', '')\n",
    "    info = [Title, Type, Values, Price]\n",
    "    print(info)"
   ]
  },
  {
   "cell_type": "markdown",
   "id": "2ca6eb1c",
   "metadata": {},
   "source": [
    "Now that we have removed from all the unnecessary data that is not needed for our analysis, we an now extract these data and export them to a csv file. "
   ]
  },
  {
   "cell_type": "markdown",
   "id": "bb5bf2d3",
   "metadata": {},
   "source": [
    "### Export to csv file - Yishun"
   ]
  },
  {
   "cell_type": "code",
   "execution_count": 112,
   "id": "70131cd2",
   "metadata": {},
   "outputs": [],
   "source": [
    "soup = BeautifulSoup(page.content, 'html.parser')\n",
    "lists = soup.find_all('div', {'class':'row listingDetailsInfo'})\n",
    "\n",
    "with open('Yishun4R.csv', 'w', encoding='utf-8', newline='') as f: #open and closes automatically \n",
    "    thewriter = writer(f)  #f is the file function we give \n",
    "    header = ['Title', 'Type', 'Values', 'Price']\n",
    "    thewriter.writerow(header)\n",
    "    \n",
    "    for list in lists:\n",
    "        Address = list.find('a', {'class':'listingDetailTitle'}).text.replace('\\n', '').replace('\\t', '')\n",
    "        Type = list.find('div', {'class':'listingDetailType'}).text.replace('\\n', '').replace('\\t', '').replace('4 Room', '').replace('•', '').replace('New Generation', '').replace('Model A', '').replace('Simplified','').replace('Improved','').replace('Built-','').replace('Premium Apartment','')\n",
    "        Values = list.find('div', {'listingDetailValues'}).text.replace('\\n', '').replace('\\t', '')\n",
    "        Price = list.find('div', {'listingDetailPrice adjusted-line-height'}).text.replace('\\n', '').replace('\\t', '').replace('$','').replace(',','')\n",
    "        \n",
    "        info = [Address, Type, Values, Price]\n",
    "        thewriter.writerow(info)"
   ]
  },
  {
   "cell_type": "markdown",
   "id": "448c101a",
   "metadata": {},
   "source": [
    "This is the last step were the csv file has been created and it is in the folder that we have created. "
   ]
  },
  {
   "cell_type": "markdown",
   "id": "a86653d2",
   "metadata": {},
   "source": [
    "### Converting webscraping csv files into dataframe - Yishun"
   ]
  },
  {
   "cell_type": "markdown",
   "id": "1eb5fa72",
   "metadata": {},
   "source": [
    "Now that we have scrape the data, it is time to make them into a dataframe format."
   ]
  },
  {
   "cell_type": "code",
   "execution_count": 113,
   "id": "c51b4bcc",
   "metadata": {
    "scrolled": true
   },
   "outputs": [
    {
     "data": {
      "text/html": [
       "<div>\n",
       "<style scoped>\n",
       "    .dataframe tbody tr th:only-of-type {\n",
       "        vertical-align: middle;\n",
       "    }\n",
       "\n",
       "    .dataframe tbody tr th {\n",
       "        vertical-align: top;\n",
       "    }\n",
       "\n",
       "    .dataframe thead th {\n",
       "        text-align: right;\n",
       "    }\n",
       "</style>\n",
       "<table border=\"1\" class=\"dataframe\">\n",
       "  <thead>\n",
       "    <tr style=\"text-align: right;\">\n",
       "      <th></th>\n",
       "      <th>Title</th>\n",
       "      <th>Type</th>\n",
       "      <th>Values</th>\n",
       "      <th>Price</th>\n",
       "    </tr>\n",
       "  </thead>\n",
       "  <tbody>\n",
       "    <tr>\n",
       "      <th>0</th>\n",
       "      <td>Blk 302 Yishun Central</td>\n",
       "      <td>1988</td>\n",
       "      <td>104 sqm / $464 psf(Built)</td>\n",
       "      <td>520000</td>\n",
       "    </tr>\n",
       "    <tr>\n",
       "      <th>1</th>\n",
       "      <td>Blk 506C Angsana Breeze @ Yishun</td>\n",
       "      <td>2018</td>\n",
       "      <td>93 sqm / $564 psf(Built)</td>\n",
       "      <td>565000</td>\n",
       "    </tr>\n",
       "    <tr>\n",
       "      <th>2</th>\n",
       "      <td>Blk 264 Yishun Street 22</td>\n",
       "      <td>1986</td>\n",
       "      <td>104 sqm / $442 psf(Built)</td>\n",
       "      <td>494900</td>\n",
       "    </tr>\n",
       "    <tr>\n",
       "      <th>3</th>\n",
       "      <td>Blk 312 Yishun Ring Road</td>\n",
       "      <td>1987</td>\n",
       "      <td>84 sqm / $470 psf(Built)</td>\n",
       "      <td>425000</td>\n",
       "    </tr>\n",
       "    <tr>\n",
       "      <th>4</th>\n",
       "      <td>Blk 117 Yishun Ring Road</td>\n",
       "      <td>1983</td>\n",
       "      <td>104 sqm / $428 psf(Built)</td>\n",
       "      <td>480000</td>\n",
       "    </tr>\n",
       "  </tbody>\n",
       "</table>\n",
       "</div>"
      ],
      "text/plain": [
       "                              Title  Type                     Values   Price\n",
       "0            Blk 302 Yishun Central  1988  104 sqm / $464 psf(Built)  520000\n",
       "1  Blk 506C Angsana Breeze @ Yishun  2018   93 sqm / $564 psf(Built)  565000\n",
       "2          Blk 264 Yishun Street 22  1986  104 sqm / $442 psf(Built)  494900\n",
       "3          Blk 312 Yishun Ring Road  1987   84 sqm / $470 psf(Built)  425000\n",
       "4          Blk 117 Yishun Ring Road  1983  104 sqm / $428 psf(Built)  480000"
      ]
     },
     "execution_count": 113,
     "metadata": {},
     "output_type": "execute_result"
    }
   ],
   "source": [
    "import pandas as pd\n",
    "import numpy as np \n",
    "\n",
    "yishun = pd.read_csv('yishun4R.csv')\n",
    "yishun = yishun[['Title', 'Type', 'Values', 'Price']]\n",
    "yishun.head()\n"
   ]
  },
  {
   "cell_type": "code",
   "execution_count": 114,
   "id": "84a00b5d",
   "metadata": {
    "scrolled": true
   },
   "outputs": [
    {
     "data": {
      "text/html": [
       "<div>\n",
       "<style scoped>\n",
       "    .dataframe tbody tr th:only-of-type {\n",
       "        vertical-align: middle;\n",
       "    }\n",
       "\n",
       "    .dataframe tbody tr th {\n",
       "        vertical-align: top;\n",
       "    }\n",
       "\n",
       "    .dataframe thead th {\n",
       "        text-align: right;\n",
       "    }\n",
       "</style>\n",
       "<table border=\"1\" class=\"dataframe\">\n",
       "  <thead>\n",
       "    <tr style=\"text-align: right;\">\n",
       "      <th></th>\n",
       "      <th>Title</th>\n",
       "      <th>Type</th>\n",
       "      <th>Values</th>\n",
       "      <th>Price</th>\n",
       "    </tr>\n",
       "  </thead>\n",
       "  <tbody>\n",
       "    <tr>\n",
       "      <th>0</th>\n",
       "      <td>Blk 302 Yishun Central</td>\n",
       "      <td>1988</td>\n",
       "      <td>104 sqm / $464 psf(Built)</td>\n",
       "      <td>520000</td>\n",
       "    </tr>\n",
       "    <tr>\n",
       "      <th>1</th>\n",
       "      <td>Blk 506C Angsana Breeze @ Yishun</td>\n",
       "      <td>2018</td>\n",
       "      <td>93 sqm / $564 psf(Built)</td>\n",
       "      <td>565000</td>\n",
       "    </tr>\n",
       "    <tr>\n",
       "      <th>2</th>\n",
       "      <td>Blk 264 Yishun Street 22</td>\n",
       "      <td>1986</td>\n",
       "      <td>104 sqm / $442 psf(Built)</td>\n",
       "      <td>494900</td>\n",
       "    </tr>\n",
       "    <tr>\n",
       "      <th>3</th>\n",
       "      <td>Blk 312 Yishun Ring Road</td>\n",
       "      <td>1987</td>\n",
       "      <td>84 sqm / $470 psf(Built)</td>\n",
       "      <td>425000</td>\n",
       "    </tr>\n",
       "    <tr>\n",
       "      <th>4</th>\n",
       "      <td>Blk 117 Yishun Ring Road</td>\n",
       "      <td>1983</td>\n",
       "      <td>104 sqm / $428 psf(Built)</td>\n",
       "      <td>480000</td>\n",
       "    </tr>\n",
       "    <tr>\n",
       "      <th>5</th>\n",
       "      <td>Blk 348A Adora Green</td>\n",
       "      <td>2013</td>\n",
       "      <td>92 sqm / $656 psf(Built)</td>\n",
       "      <td>650000</td>\n",
       "    </tr>\n",
       "    <tr>\n",
       "      <th>6</th>\n",
       "      <td>Blk 407 Yishun Avenue 6</td>\n",
       "      <td>1988</td>\n",
       "      <td>84 sqm / $448 psf(Built)</td>\n",
       "      <td>405000</td>\n",
       "    </tr>\n",
       "    <tr>\n",
       "      <th>7</th>\n",
       "      <td>Blk 346 Yishun Avenue 11</td>\n",
       "      <td>1988</td>\n",
       "      <td>104 sqm / $420 psf(Built)</td>\n",
       "      <td>470000</td>\n",
       "    </tr>\n",
       "    <tr>\n",
       "      <th>8</th>\n",
       "      <td>Blk 870 Yishun Street 81</td>\n",
       "      <td>1987</td>\n",
       "      <td>104 sqm / $464 psf(Built)</td>\n",
       "      <td>520000</td>\n",
       "    </tr>\n",
       "    <tr>\n",
       "      <th>9</th>\n",
       "      <td>Blk 870 Yishun Street 81</td>\n",
       "      <td>1987</td>\n",
       "      <td>104 sqm / $464 psf(Built)</td>\n",
       "      <td>520000</td>\n",
       "    </tr>\n",
       "    <tr>\n",
       "      <th>10</th>\n",
       "      <td>Blk 304 Yishun Central</td>\n",
       "      <td>1988</td>\n",
       "      <td>104 sqm / $487 psf(Built)</td>\n",
       "      <td>545000</td>\n",
       "    </tr>\n",
       "    <tr>\n",
       "      <th>11</th>\n",
       "      <td>Blk 838 Yishun Street 81</td>\n",
       "      <td>1987</td>\n",
       "      <td>104 sqm / $534 psf(Built)</td>\n",
       "      <td>598000</td>\n",
       "    </tr>\n",
       "    <tr>\n",
       "      <th>12</th>\n",
       "      <td>Blk 817 Yishun Street 81</td>\n",
       "      <td>1987</td>\n",
       "      <td>104 sqm / $445 psf(Built)</td>\n",
       "      <td>499000</td>\n",
       "    </tr>\n",
       "    <tr>\n",
       "      <th>13</th>\n",
       "      <td>Blk 676B Park Grove @ Yishun</td>\n",
       "      <td>2017</td>\n",
       "      <td>93 sqm / $574 psf(Built)</td>\n",
       "      <td>575000</td>\n",
       "    </tr>\n",
       "    <tr>\n",
       "      <th>14</th>\n",
       "      <td>Blk 269 Yishun Street 22</td>\n",
       "      <td>1988</td>\n",
       "      <td>84 sqm / $495 psf(Built)</td>\n",
       "      <td>448000</td>\n",
       "    </tr>\n",
       "    <tr>\n",
       "      <th>15</th>\n",
       "      <td>Blk 403 Yishun Avenue 6</td>\n",
       "      <td>1988</td>\n",
       "      <td>84 sqm / $475 psf(Built)</td>\n",
       "      <td>430000</td>\n",
       "    </tr>\n",
       "    <tr>\n",
       "      <th>16</th>\n",
       "      <td>Blk 676A Park Grove @ Yishun</td>\n",
       "      <td>2017</td>\n",
       "      <td>93 sqm / $579 psf(Built)</td>\n",
       "      <td>580000</td>\n",
       "    </tr>\n",
       "    <tr>\n",
       "      <th>17</th>\n",
       "      <td>Blk 446 Yishun Avenue 11</td>\n",
       "      <td>2012</td>\n",
       "      <td>92 sqm / $543 psf(Built)</td>\n",
       "      <td>538000</td>\n",
       "    </tr>\n",
       "    <tr>\n",
       "      <th>18</th>\n",
       "      <td>Blk 349 Yishun Avenue 11</td>\n",
       "      <td>1988</td>\n",
       "      <td>108 sqm / $417 psf(Built)</td>\n",
       "      <td>485000</td>\n",
       "    </tr>\n",
       "    <tr>\n",
       "      <th>19</th>\n",
       "      <td>Blk 287 Yishun Avenue 6</td>\n",
       "      <td>1985</td>\n",
       "      <td>104 sqm / $445 psf(Built)</td>\n",
       "      <td>499000</td>\n",
       "    </tr>\n",
       "  </tbody>\n",
       "</table>\n",
       "</div>"
      ],
      "text/plain": [
       "                               Title  Type                     Values   Price\n",
       "0             Blk 302 Yishun Central  1988  104 sqm / $464 psf(Built)  520000\n",
       "1   Blk 506C Angsana Breeze @ Yishun  2018   93 sqm / $564 psf(Built)  565000\n",
       "2           Blk 264 Yishun Street 22  1986  104 sqm / $442 psf(Built)  494900\n",
       "3           Blk 312 Yishun Ring Road  1987   84 sqm / $470 psf(Built)  425000\n",
       "4           Blk 117 Yishun Ring Road  1983  104 sqm / $428 psf(Built)  480000\n",
       "5               Blk 348A Adora Green  2013   92 sqm / $656 psf(Built)  650000\n",
       "6            Blk 407 Yishun Avenue 6  1988   84 sqm / $448 psf(Built)  405000\n",
       "7           Blk 346 Yishun Avenue 11  1988  104 sqm / $420 psf(Built)  470000\n",
       "8           Blk 870 Yishun Street 81  1987  104 sqm / $464 psf(Built)  520000\n",
       "9           Blk 870 Yishun Street 81  1987  104 sqm / $464 psf(Built)  520000\n",
       "10            Blk 304 Yishun Central  1988  104 sqm / $487 psf(Built)  545000\n",
       "11          Blk 838 Yishun Street 81  1987  104 sqm / $534 psf(Built)  598000\n",
       "12          Blk 817 Yishun Street 81  1987  104 sqm / $445 psf(Built)  499000\n",
       "13      Blk 676B Park Grove @ Yishun  2017   93 sqm / $574 psf(Built)  575000\n",
       "14          Blk 269 Yishun Street 22  1988   84 sqm / $495 psf(Built)  448000\n",
       "15           Blk 403 Yishun Avenue 6  1988   84 sqm / $475 psf(Built)  430000\n",
       "16      Blk 676A Park Grove @ Yishun  2017   93 sqm / $579 psf(Built)  580000\n",
       "17          Blk 446 Yishun Avenue 11  2012   92 sqm / $543 psf(Built)  538000\n",
       "18          Blk 349 Yishun Avenue 11  1988  108 sqm / $417 psf(Built)  485000\n",
       "19           Blk 287 Yishun Avenue 6  1985  104 sqm / $445 psf(Built)  499000"
      ]
     },
     "execution_count": 114,
     "metadata": {},
     "output_type": "execute_result"
    }
   ],
   "source": [
    "yishun"
   ]
  },
  {
   "cell_type": "markdown",
   "id": "f9452538",
   "metadata": {},
   "source": [
    "Now all my data has been converted into a dataframe so whenever we call bishan or yishun, all the data will be shown in the list. So now we can move on to the simple data analysis part of this project. At the end of this project, we will also touch on the exploratory data analysis (EDA) of this project. "
   ]
  },
  {
   "cell_type": "markdown",
   "id": "ab4c2c92",
   "metadata": {},
   "source": [
    "# 3. Simple data analysis"
   ]
  },
  {
   "cell_type": "markdown",
   "id": "8c4b3fc7",
   "metadata": {},
   "source": [
    "In this section, we will perform simple analysis on the dataframe to assess whether further data processing is required before we start the exploratory data analaysis. We can also easily call out bishan and yishun to print the dataframe that we want to analyse the datasets. "
   ]
  },
  {
   "cell_type": "markdown",
   "id": "24734695",
   "metadata": {},
   "source": [
    "## 3.1 Top 10 data "
   ]
  },
  {
   "cell_type": "markdown",
   "id": "9262337f",
   "metadata": {},
   "source": [
    "The command below will show the top 10 data in the dataframe for both Bishan and Yishun."
   ]
  },
  {
   "cell_type": "code",
   "execution_count": 115,
   "id": "a579e4c1",
   "metadata": {
    "scrolled": true
   },
   "outputs": [
    {
     "data": {
      "text/html": [
       "<div>\n",
       "<style scoped>\n",
       "    .dataframe tbody tr th:only-of-type {\n",
       "        vertical-align: middle;\n",
       "    }\n",
       "\n",
       "    .dataframe tbody tr th {\n",
       "        vertical-align: top;\n",
       "    }\n",
       "\n",
       "    .dataframe thead th {\n",
       "        text-align: right;\n",
       "    }\n",
       "</style>\n",
       "<table border=\"1\" class=\"dataframe\">\n",
       "  <thead>\n",
       "    <tr style=\"text-align: right;\">\n",
       "      <th></th>\n",
       "      <th>Title</th>\n",
       "      <th>Type</th>\n",
       "      <th>Values</th>\n",
       "      <th>Price</th>\n",
       "    </tr>\n",
       "  </thead>\n",
       "  <tbody>\n",
       "    <tr>\n",
       "      <th>0</th>\n",
       "      <td>Blk 149 Bishan Green</td>\n",
       "      <td>1987</td>\n",
       "      <td>84 sqm / $591 psf(Built)</td>\n",
       "      <td>535000</td>\n",
       "    </tr>\n",
       "    <tr>\n",
       "      <th>1</th>\n",
       "      <td>Blk 163 Bishan Street 13</td>\n",
       "      <td>1988</td>\n",
       "      <td>131 sqm / $695 psf(Built)</td>\n",
       "      <td>980000</td>\n",
       "    </tr>\n",
       "    <tr>\n",
       "      <th>2</th>\n",
       "      <td>Blk 109 Bishan View</td>\n",
       "      <td>1985</td>\n",
       "      <td>104 sqm / $623 psf(Built)</td>\n",
       "      <td>698000</td>\n",
       "    </tr>\n",
       "    <tr>\n",
       "      <th>3</th>\n",
       "      <td>Blk 148 Bishan Green</td>\n",
       "      <td>1987</td>\n",
       "      <td>122 sqm / $567 psf(Built)</td>\n",
       "      <td>745000</td>\n",
       "    </tr>\n",
       "    <tr>\n",
       "      <th>4</th>\n",
       "      <td>Blk 136 Bishan Green</td>\n",
       "      <td>1987</td>\n",
       "      <td>92 sqm / $505 psf(Built)</td>\n",
       "      <td>499999</td>\n",
       "    </tr>\n",
       "    <tr>\n",
       "      <th>5</th>\n",
       "      <td>Blk 111 Bishan View</td>\n",
       "      <td>1986</td>\n",
       "      <td>90 sqm / $676 psf(Built)</td>\n",
       "      <td>655000</td>\n",
       "    </tr>\n",
       "    <tr>\n",
       "      <th>6</th>\n",
       "      <td>Blk 248 Bishan Street 22</td>\n",
       "      <td>1992</td>\n",
       "      <td>114 sqm / $529 psf(Built)</td>\n",
       "      <td>650000</td>\n",
       "    </tr>\n",
       "    <tr>\n",
       "      <th>7</th>\n",
       "      <td>Blk 176 Bishan Street 13</td>\n",
       "      <td>1988</td>\n",
       "      <td>88 sqm / $718 psf(Built)</td>\n",
       "      <td>680000</td>\n",
       "    </tr>\n",
       "    <tr>\n",
       "      <th>8</th>\n",
       "      <td>Blk 185 Bishan Street 13</td>\n",
       "      <td>1988</td>\n",
       "      <td>83 sqm / $705 psf(Built)</td>\n",
       "      <td>630000</td>\n",
       "    </tr>\n",
       "    <tr>\n",
       "      <th>9</th>\n",
       "      <td>Blk 252 Bishan Street 22</td>\n",
       "      <td>1992</td>\n",
       "      <td>104 sqm / $737 psf(Built)</td>\n",
       "      <td>825000</td>\n",
       "    </tr>\n",
       "  </tbody>\n",
       "</table>\n",
       "</div>"
      ],
      "text/plain": [
       "                      Title  Type                     Values   Price\n",
       "0      Blk 149 Bishan Green  1987   84 sqm / $591 psf(Built)  535000\n",
       "1  Blk 163 Bishan Street 13  1988  131 sqm / $695 psf(Built)  980000\n",
       "2       Blk 109 Bishan View  1985  104 sqm / $623 psf(Built)  698000\n",
       "3      Blk 148 Bishan Green  1987  122 sqm / $567 psf(Built)  745000\n",
       "4      Blk 136 Bishan Green  1987   92 sqm / $505 psf(Built)  499999\n",
       "5       Blk 111 Bishan View  1986   90 sqm / $676 psf(Built)  655000\n",
       "6  Blk 248 Bishan Street 22  1992  114 sqm / $529 psf(Built)  650000\n",
       "7  Blk 176 Bishan Street 13  1988   88 sqm / $718 psf(Built)  680000\n",
       "8  Blk 185 Bishan Street 13  1988   83 sqm / $705 psf(Built)  630000\n",
       "9  Blk 252 Bishan Street 22  1992  104 sqm / $737 psf(Built)  825000"
      ]
     },
     "execution_count": 115,
     "metadata": {},
     "output_type": "execute_result"
    }
   ],
   "source": [
    "import pandas as pd \n",
    "bishan.head(10)"
   ]
  },
  {
   "cell_type": "code",
   "execution_count": 116,
   "id": "4ccfb2f1",
   "metadata": {
    "scrolled": true
   },
   "outputs": [
    {
     "data": {
      "text/html": [
       "<div>\n",
       "<style scoped>\n",
       "    .dataframe tbody tr th:only-of-type {\n",
       "        vertical-align: middle;\n",
       "    }\n",
       "\n",
       "    .dataframe tbody tr th {\n",
       "        vertical-align: top;\n",
       "    }\n",
       "\n",
       "    .dataframe thead th {\n",
       "        text-align: right;\n",
       "    }\n",
       "</style>\n",
       "<table border=\"1\" class=\"dataframe\">\n",
       "  <thead>\n",
       "    <tr style=\"text-align: right;\">\n",
       "      <th></th>\n",
       "      <th>Title</th>\n",
       "      <th>Type</th>\n",
       "      <th>Values</th>\n",
       "      <th>Price</th>\n",
       "    </tr>\n",
       "  </thead>\n",
       "  <tbody>\n",
       "    <tr>\n",
       "      <th>0</th>\n",
       "      <td>Blk 302 Yishun Central</td>\n",
       "      <td>1988</td>\n",
       "      <td>104 sqm / $464 psf(Built)</td>\n",
       "      <td>520000</td>\n",
       "    </tr>\n",
       "    <tr>\n",
       "      <th>1</th>\n",
       "      <td>Blk 506C Angsana Breeze @ Yishun</td>\n",
       "      <td>2018</td>\n",
       "      <td>93 sqm / $564 psf(Built)</td>\n",
       "      <td>565000</td>\n",
       "    </tr>\n",
       "    <tr>\n",
       "      <th>2</th>\n",
       "      <td>Blk 264 Yishun Street 22</td>\n",
       "      <td>1986</td>\n",
       "      <td>104 sqm / $442 psf(Built)</td>\n",
       "      <td>494900</td>\n",
       "    </tr>\n",
       "    <tr>\n",
       "      <th>3</th>\n",
       "      <td>Blk 312 Yishun Ring Road</td>\n",
       "      <td>1987</td>\n",
       "      <td>84 sqm / $470 psf(Built)</td>\n",
       "      <td>425000</td>\n",
       "    </tr>\n",
       "    <tr>\n",
       "      <th>4</th>\n",
       "      <td>Blk 117 Yishun Ring Road</td>\n",
       "      <td>1983</td>\n",
       "      <td>104 sqm / $428 psf(Built)</td>\n",
       "      <td>480000</td>\n",
       "    </tr>\n",
       "    <tr>\n",
       "      <th>5</th>\n",
       "      <td>Blk 348A Adora Green</td>\n",
       "      <td>2013</td>\n",
       "      <td>92 sqm / $656 psf(Built)</td>\n",
       "      <td>650000</td>\n",
       "    </tr>\n",
       "    <tr>\n",
       "      <th>6</th>\n",
       "      <td>Blk 407 Yishun Avenue 6</td>\n",
       "      <td>1988</td>\n",
       "      <td>84 sqm / $448 psf(Built)</td>\n",
       "      <td>405000</td>\n",
       "    </tr>\n",
       "    <tr>\n",
       "      <th>7</th>\n",
       "      <td>Blk 346 Yishun Avenue 11</td>\n",
       "      <td>1988</td>\n",
       "      <td>104 sqm / $420 psf(Built)</td>\n",
       "      <td>470000</td>\n",
       "    </tr>\n",
       "    <tr>\n",
       "      <th>8</th>\n",
       "      <td>Blk 870 Yishun Street 81</td>\n",
       "      <td>1987</td>\n",
       "      <td>104 sqm / $464 psf(Built)</td>\n",
       "      <td>520000</td>\n",
       "    </tr>\n",
       "    <tr>\n",
       "      <th>9</th>\n",
       "      <td>Blk 870 Yishun Street 81</td>\n",
       "      <td>1987</td>\n",
       "      <td>104 sqm / $464 psf(Built)</td>\n",
       "      <td>520000</td>\n",
       "    </tr>\n",
       "  </tbody>\n",
       "</table>\n",
       "</div>"
      ],
      "text/plain": [
       "                              Title  Type                     Values   Price\n",
       "0            Blk 302 Yishun Central  1988  104 sqm / $464 psf(Built)  520000\n",
       "1  Blk 506C Angsana Breeze @ Yishun  2018   93 sqm / $564 psf(Built)  565000\n",
       "2          Blk 264 Yishun Street 22  1986  104 sqm / $442 psf(Built)  494900\n",
       "3          Blk 312 Yishun Ring Road  1987   84 sqm / $470 psf(Built)  425000\n",
       "4          Blk 117 Yishun Ring Road  1983  104 sqm / $428 psf(Built)  480000\n",
       "5              Blk 348A Adora Green  2013   92 sqm / $656 psf(Built)  650000\n",
       "6           Blk 407 Yishun Avenue 6  1988   84 sqm / $448 psf(Built)  405000\n",
       "7          Blk 346 Yishun Avenue 11  1988  104 sqm / $420 psf(Built)  470000\n",
       "8          Blk 870 Yishun Street 81  1987  104 sqm / $464 psf(Built)  520000\n",
       "9          Blk 870 Yishun Street 81  1987  104 sqm / $464 psf(Built)  520000"
      ]
     },
     "execution_count": 116,
     "metadata": {},
     "output_type": "execute_result"
    }
   ],
   "source": [
    "yishun.head(10)"
   ]
  },
  {
   "cell_type": "markdown",
   "id": "fedbd2db",
   "metadata": {},
   "source": [
    "## 3.2 Bottom 5 data "
   ]
  },
  {
   "cell_type": "markdown",
   "id": "b1a0dc1b",
   "metadata": {},
   "source": [
    "The command below will show the bottom 5 data in the dataframe for both Bishan and Yishun."
   ]
  },
  {
   "cell_type": "code",
   "execution_count": 117,
   "id": "d90f6378",
   "metadata": {
    "scrolled": true
   },
   "outputs": [
    {
     "data": {
      "text/html": [
       "<div>\n",
       "<style scoped>\n",
       "    .dataframe tbody tr th:only-of-type {\n",
       "        vertical-align: middle;\n",
       "    }\n",
       "\n",
       "    .dataframe tbody tr th {\n",
       "        vertical-align: top;\n",
       "    }\n",
       "\n",
       "    .dataframe thead th {\n",
       "        text-align: right;\n",
       "    }\n",
       "</style>\n",
       "<table border=\"1\" class=\"dataframe\">\n",
       "  <thead>\n",
       "    <tr style=\"text-align: right;\">\n",
       "      <th></th>\n",
       "      <th>Title</th>\n",
       "      <th>Type</th>\n",
       "      <th>Values</th>\n",
       "      <th>Price</th>\n",
       "    </tr>\n",
       "  </thead>\n",
       "  <tbody>\n",
       "    <tr>\n",
       "      <th>15</th>\n",
       "      <td>Blk 293 Bishan Street 22</td>\n",
       "      <td>1998</td>\n",
       "      <td>102 sqm / $711 psf(Built)</td>\n",
       "      <td>780000</td>\n",
       "    </tr>\n",
       "    <tr>\n",
       "      <th>16</th>\n",
       "      <td>Blk 441 Sin Ming Avenue</td>\n",
       "      <td>1990</td>\n",
       "      <td>114 sqm / $676 psf(Built)</td>\n",
       "      <td>830000</td>\n",
       "    </tr>\n",
       "    <tr>\n",
       "      <th>17</th>\n",
       "      <td>Blk 501 Bishan Street 11</td>\n",
       "      <td>1989</td>\n",
       "      <td>103 sqm / $602 psf(Built)</td>\n",
       "      <td>668000</td>\n",
       "    </tr>\n",
       "    <tr>\n",
       "      <th>18</th>\n",
       "      <td>Blk 266 Bishan Street 24</td>\n",
       "      <td>1992</td>\n",
       "      <td>112 sqm / $653 psf(Built)</td>\n",
       "      <td>788000</td>\n",
       "    </tr>\n",
       "    <tr>\n",
       "      <th>19</th>\n",
       "      <td>Blk 122 Bishan Street 12</td>\n",
       "      <td>1986</td>\n",
       "      <td>104 sqm / $603 psf(Built)</td>\n",
       "      <td>675000</td>\n",
       "    </tr>\n",
       "  </tbody>\n",
       "</table>\n",
       "</div>"
      ],
      "text/plain": [
       "                       Title  Type                     Values   Price\n",
       "15  Blk 293 Bishan Street 22  1998  102 sqm / $711 psf(Built)  780000\n",
       "16   Blk 441 Sin Ming Avenue  1990  114 sqm / $676 psf(Built)  830000\n",
       "17  Blk 501 Bishan Street 11  1989  103 sqm / $602 psf(Built)  668000\n",
       "18  Blk 266 Bishan Street 24  1992  112 sqm / $653 psf(Built)  788000\n",
       "19  Blk 122 Bishan Street 12  1986  104 sqm / $603 psf(Built)  675000"
      ]
     },
     "execution_count": 117,
     "metadata": {},
     "output_type": "execute_result"
    }
   ],
   "source": [
    "bishan.tail(5)"
   ]
  },
  {
   "cell_type": "code",
   "execution_count": 118,
   "id": "f12feb1b",
   "metadata": {
    "scrolled": false
   },
   "outputs": [
    {
     "data": {
      "text/html": [
       "<div>\n",
       "<style scoped>\n",
       "    .dataframe tbody tr th:only-of-type {\n",
       "        vertical-align: middle;\n",
       "    }\n",
       "\n",
       "    .dataframe tbody tr th {\n",
       "        vertical-align: top;\n",
       "    }\n",
       "\n",
       "    .dataframe thead th {\n",
       "        text-align: right;\n",
       "    }\n",
       "</style>\n",
       "<table border=\"1\" class=\"dataframe\">\n",
       "  <thead>\n",
       "    <tr style=\"text-align: right;\">\n",
       "      <th></th>\n",
       "      <th>Title</th>\n",
       "      <th>Type</th>\n",
       "      <th>Values</th>\n",
       "      <th>Price</th>\n",
       "    </tr>\n",
       "  </thead>\n",
       "  <tbody>\n",
       "    <tr>\n",
       "      <th>15</th>\n",
       "      <td>Blk 403 Yishun Avenue 6</td>\n",
       "      <td>1988</td>\n",
       "      <td>84 sqm / $475 psf(Built)</td>\n",
       "      <td>430000</td>\n",
       "    </tr>\n",
       "    <tr>\n",
       "      <th>16</th>\n",
       "      <td>Blk 676A Park Grove @ Yishun</td>\n",
       "      <td>2017</td>\n",
       "      <td>93 sqm / $579 psf(Built)</td>\n",
       "      <td>580000</td>\n",
       "    </tr>\n",
       "    <tr>\n",
       "      <th>17</th>\n",
       "      <td>Blk 446 Yishun Avenue 11</td>\n",
       "      <td>2012</td>\n",
       "      <td>92 sqm / $543 psf(Built)</td>\n",
       "      <td>538000</td>\n",
       "    </tr>\n",
       "    <tr>\n",
       "      <th>18</th>\n",
       "      <td>Blk 349 Yishun Avenue 11</td>\n",
       "      <td>1988</td>\n",
       "      <td>108 sqm / $417 psf(Built)</td>\n",
       "      <td>485000</td>\n",
       "    </tr>\n",
       "    <tr>\n",
       "      <th>19</th>\n",
       "      <td>Blk 287 Yishun Avenue 6</td>\n",
       "      <td>1985</td>\n",
       "      <td>104 sqm / $445 psf(Built)</td>\n",
       "      <td>499000</td>\n",
       "    </tr>\n",
       "  </tbody>\n",
       "</table>\n",
       "</div>"
      ],
      "text/plain": [
       "                           Title  Type                     Values   Price\n",
       "15       Blk 403 Yishun Avenue 6  1988   84 sqm / $475 psf(Built)  430000\n",
       "16  Blk 676A Park Grove @ Yishun  2017   93 sqm / $579 psf(Built)  580000\n",
       "17      Blk 446 Yishun Avenue 11  2012   92 sqm / $543 psf(Built)  538000\n",
       "18      Blk 349 Yishun Avenue 11  1988  108 sqm / $417 psf(Built)  485000\n",
       "19       Blk 287 Yishun Avenue 6  1985  104 sqm / $445 psf(Built)  499000"
      ]
     },
     "execution_count": 118,
     "metadata": {},
     "output_type": "execute_result"
    }
   ],
   "source": [
    "yishun.tail(5)"
   ]
  },
  {
   "cell_type": "markdown",
   "id": "28082edc",
   "metadata": {},
   "source": [
    "## 3.3 Finding the Max "
   ]
  },
  {
   "cell_type": "markdown",
   "id": "a0f2c205",
   "metadata": {},
   "source": [
    "The command below will show the maximum data in terms of price in the dataframe for both Bishan and Yishun."
   ]
  },
  {
   "cell_type": "code",
   "execution_count": 119,
   "id": "8290af37",
   "metadata": {},
   "outputs": [
    {
     "data": {
      "text/plain": [
       "Title     Blk 501 Bishan Street 11\n",
       "Type                          1998\n",
       "Values    92 sqm / $505 psf(Built)\n",
       "Price                       980000\n",
       "dtype: object"
      ]
     },
     "execution_count": 119,
     "metadata": {},
     "output_type": "execute_result"
    }
   ],
   "source": [
    "# Bishan Flat \n",
    "bishan.max()"
   ]
  },
  {
   "cell_type": "code",
   "execution_count": 120,
   "id": "96f723a2",
   "metadata": {
    "scrolled": true
   },
   "outputs": [
    {
     "data": {
      "text/plain": [
       "Title     Blk 870 Yishun Street 81\n",
       "Type                          2018\n",
       "Values    93 sqm / $579 psf(Built)\n",
       "Price                       650000\n",
       "dtype: object"
      ]
     },
     "execution_count": 120,
     "metadata": {},
     "output_type": "execute_result"
    }
   ],
   "source": [
    "# Yishun Flat \n",
    "yishun.max()"
   ]
  },
  {
   "cell_type": "markdown",
   "id": "b5d6c6ef",
   "metadata": {},
   "source": [
    "From the above results, we can tell that there is a huge differnce in price of $250,000 and a difference of only 1 sqm between the flat in Bishan and Yishun. "
   ]
  },
  {
   "cell_type": "markdown",
   "id": "caae6b84",
   "metadata": {},
   "source": [
    "## 3.4 Finding the Min"
   ]
  },
  {
   "cell_type": "markdown",
   "id": "7536048f",
   "metadata": {},
   "source": [
    "The command below will show the minimum data in terms of price in the dataframe for both Bishan and Yishun."
   ]
  },
  {
   "cell_type": "code",
   "execution_count": 121,
   "id": "05bb24fb",
   "metadata": {
    "scrolled": true
   },
   "outputs": [
    {
     "data": {
      "text/plain": [
       "Title           Blk 109 Bishan View\n",
       "Type                           1974\n",
       "Values    100 sqm / $741 psf(Built)\n",
       "Price                        455000\n",
       "dtype: object"
      ]
     },
     "execution_count": 121,
     "metadata": {},
     "output_type": "execute_result"
    }
   ],
   "source": [
    "# Bishan Flat \n",
    "bishan.min()"
   ]
  },
  {
   "cell_type": "code",
   "execution_count": 122,
   "id": "7e68c7db",
   "metadata": {},
   "outputs": [
    {
     "data": {
      "text/plain": [
       "Title      Blk 117 Yishun Ring Road\n",
       "Type                           1983\n",
       "Values    104 sqm / $420 psf(Built)\n",
       "Price                        405000\n",
       "dtype: object"
      ]
     },
     "execution_count": 122,
     "metadata": {},
     "output_type": "execute_result"
    }
   ],
   "source": [
    "# Yishun Flat \n",
    "yishun.min()"
   ]
  },
  {
   "cell_type": "markdown",
   "id": "04e27a3d",
   "metadata": {},
   "source": [
    "## 3.5 Finding the mean "
   ]
  },
  {
   "cell_type": "markdown",
   "id": "b87d8633",
   "metadata": {},
   "source": [
    "The below code and results will show the mean price of all data of both Bishan flats and Yishun flats. This will then be the average price of the flat between the 19 flats of data that we have collected. "
   ]
  },
  {
   "cell_type": "code",
   "execution_count": 123,
   "id": "d3c395a4",
   "metadata": {},
   "outputs": [
    {
     "data": {
      "text/plain": [
       "709099.95"
      ]
     },
     "execution_count": 123,
     "metadata": {},
     "output_type": "execute_result"
    }
   ],
   "source": [
    "# Bishan flat \n",
    "bishan[\"Price\"].mean()"
   ]
  },
  {
   "cell_type": "code",
   "execution_count": 124,
   "id": "b95fcd34",
   "metadata": {},
   "outputs": [
    {
     "data": {
      "text/plain": [
       "512345.0"
      ]
     },
     "execution_count": 124,
     "metadata": {},
     "output_type": "execute_result"
    }
   ],
   "source": [
    "# Yishun flat \n",
    "yishun[\"Price\"].mean()"
   ]
  },
  {
   "cell_type": "markdown",
   "id": "62fcc365",
   "metadata": {},
   "source": [
    "From the results above, we can conclude that Bishan has a higher mean price compared to Yishun which also means that purchasing a flat in Bishan (Mature estate) will cost higher than purchasing a flat in Yishun (Non-mature estate). "
   ]
  },
  {
   "cell_type": "markdown",
   "id": "edb24b23",
   "metadata": {},
   "source": [
    "## 3.5 Finding the details of Type and Price"
   ]
  },
  {
   "cell_type": "markdown",
   "id": "d6967d7c",
   "metadata": {},
   "source": [
    "The below code and results will show the detailed description of the Type and Price data collected for both Bishan and Yishun. "
   ]
  },
  {
   "cell_type": "code",
   "execution_count": 125,
   "id": "e734b115",
   "metadata": {
    "scrolled": true
   },
   "outputs": [
    {
     "data": {
      "text/html": [
       "<div>\n",
       "<style scoped>\n",
       "    .dataframe tbody tr th:only-of-type {\n",
       "        vertical-align: middle;\n",
       "    }\n",
       "\n",
       "    .dataframe tbody tr th {\n",
       "        vertical-align: top;\n",
       "    }\n",
       "\n",
       "    .dataframe thead th {\n",
       "        text-align: right;\n",
       "    }\n",
       "</style>\n",
       "<table border=\"1\" class=\"dataframe\">\n",
       "  <thead>\n",
       "    <tr style=\"text-align: right;\">\n",
       "      <th></th>\n",
       "      <th>Type</th>\n",
       "      <th>Price</th>\n",
       "    </tr>\n",
       "  </thead>\n",
       "  <tbody>\n",
       "    <tr>\n",
       "      <th>count</th>\n",
       "      <td>20.000000</td>\n",
       "      <td>20.000000</td>\n",
       "    </tr>\n",
       "    <tr>\n",
       "      <th>mean</th>\n",
       "      <td>1988.900000</td>\n",
       "      <td>709099.950000</td>\n",
       "    </tr>\n",
       "    <tr>\n",
       "      <th>std</th>\n",
       "      <td>5.418293</td>\n",
       "      <td>132956.308257</td>\n",
       "    </tr>\n",
       "    <tr>\n",
       "      <th>min</th>\n",
       "      <td>1974.000000</td>\n",
       "      <td>455000.000000</td>\n",
       "    </tr>\n",
       "    <tr>\n",
       "      <th>25%</th>\n",
       "      <td>1986.750000</td>\n",
       "      <td>645000.000000</td>\n",
       "    </tr>\n",
       "    <tr>\n",
       "      <th>50%</th>\n",
       "      <td>1988.000000</td>\n",
       "      <td>689000.000000</td>\n",
       "    </tr>\n",
       "    <tr>\n",
       "      <th>75%</th>\n",
       "      <td>1992.000000</td>\n",
       "      <td>798500.000000</td>\n",
       "    </tr>\n",
       "    <tr>\n",
       "      <th>max</th>\n",
       "      <td>1998.000000</td>\n",
       "      <td>980000.000000</td>\n",
       "    </tr>\n",
       "  </tbody>\n",
       "</table>\n",
       "</div>"
      ],
      "text/plain": [
       "              Type          Price\n",
       "count    20.000000      20.000000\n",
       "mean   1988.900000  709099.950000\n",
       "std       5.418293  132956.308257\n",
       "min    1974.000000  455000.000000\n",
       "25%    1986.750000  645000.000000\n",
       "50%    1988.000000  689000.000000\n",
       "75%    1992.000000  798500.000000\n",
       "max    1998.000000  980000.000000"
      ]
     },
     "execution_count": 125,
     "metadata": {},
     "output_type": "execute_result"
    }
   ],
   "source": [
    "bishan.describe()"
   ]
  },
  {
   "cell_type": "code",
   "execution_count": 126,
   "id": "e475d94a",
   "metadata": {
    "scrolled": true
   },
   "outputs": [
    {
     "data": {
      "text/html": [
       "<div>\n",
       "<style scoped>\n",
       "    .dataframe tbody tr th:only-of-type {\n",
       "        vertical-align: middle;\n",
       "    }\n",
       "\n",
       "    .dataframe tbody tr th {\n",
       "        vertical-align: top;\n",
       "    }\n",
       "\n",
       "    .dataframe thead th {\n",
       "        text-align: right;\n",
       "    }\n",
       "</style>\n",
       "<table border=\"1\" class=\"dataframe\">\n",
       "  <thead>\n",
       "    <tr style=\"text-align: right;\">\n",
       "      <th></th>\n",
       "      <th>Type</th>\n",
       "      <th>Price</th>\n",
       "    </tr>\n",
       "  </thead>\n",
       "  <tbody>\n",
       "    <tr>\n",
       "      <th>count</th>\n",
       "      <td>20.000000</td>\n",
       "      <td>20.000000</td>\n",
       "    </tr>\n",
       "    <tr>\n",
       "      <th>mean</th>\n",
       "      <td>1994.100000</td>\n",
       "      <td>512345.000000</td>\n",
       "    </tr>\n",
       "    <tr>\n",
       "      <th>std</th>\n",
       "      <td>12.735776</td>\n",
       "      <td>62315.846384</td>\n",
       "    </tr>\n",
       "    <tr>\n",
       "      <th>min</th>\n",
       "      <td>1983.000000</td>\n",
       "      <td>405000.000000</td>\n",
       "    </tr>\n",
       "    <tr>\n",
       "      <th>25%</th>\n",
       "      <td>1987.000000</td>\n",
       "      <td>477500.000000</td>\n",
       "    </tr>\n",
       "    <tr>\n",
       "      <th>50%</th>\n",
       "      <td>1988.000000</td>\n",
       "      <td>509500.000000</td>\n",
       "    </tr>\n",
       "    <tr>\n",
       "      <th>75%</th>\n",
       "      <td>1994.000000</td>\n",
       "      <td>550000.000000</td>\n",
       "    </tr>\n",
       "    <tr>\n",
       "      <th>max</th>\n",
       "      <td>2018.000000</td>\n",
       "      <td>650000.000000</td>\n",
       "    </tr>\n",
       "  </tbody>\n",
       "</table>\n",
       "</div>"
      ],
      "text/plain": [
       "              Type          Price\n",
       "count    20.000000      20.000000\n",
       "mean   1994.100000  512345.000000\n",
       "std      12.735776   62315.846384\n",
       "min    1983.000000  405000.000000\n",
       "25%    1987.000000  477500.000000\n",
       "50%    1988.000000  509500.000000\n",
       "75%    1994.000000  550000.000000\n",
       "max    2018.000000  650000.000000"
      ]
     },
     "execution_count": 126,
     "metadata": {},
     "output_type": "execute_result"
    }
   ],
   "source": [
    "yishun.describe()"
   ]
  },
  {
   "cell_type": "markdown",
   "id": "b80e1e3f",
   "metadata": {},
   "source": [
    "## 3.6 Dataset Description "
   ]
  },
  {
   "cell_type": "code",
   "execution_count": 127,
   "id": "8b57b736",
   "metadata": {
    "scrolled": true
   },
   "outputs": [
    {
     "name": "stdout",
     "output_type": "stream",
     "text": [
      "<class 'pandas.core.frame.DataFrame'>\n",
      "RangeIndex: 20 entries, 0 to 19\n",
      "Data columns (total 4 columns):\n",
      " #   Column  Non-Null Count  Dtype \n",
      "---  ------  --------------  ----- \n",
      " 0   Title   20 non-null     object\n",
      " 1   Type    20 non-null     int64 \n",
      " 2   Values  20 non-null     object\n",
      " 3   Price   20 non-null     int64 \n",
      "dtypes: int64(2), object(2)\n",
      "memory usage: 768.0+ bytes\n"
     ]
    }
   ],
   "source": [
    "# Bishan Flat \n",
    "bishan.info()"
   ]
  },
  {
   "cell_type": "code",
   "execution_count": 128,
   "id": "1dad4e9d",
   "metadata": {},
   "outputs": [
    {
     "name": "stdout",
     "output_type": "stream",
     "text": [
      "<class 'pandas.core.frame.DataFrame'>\n",
      "RangeIndex: 20 entries, 0 to 19\n",
      "Data columns (total 4 columns):\n",
      " #   Column  Non-Null Count  Dtype \n",
      "---  ------  --------------  ----- \n",
      " 0   Title   20 non-null     object\n",
      " 1   Type    20 non-null     int64 \n",
      " 2   Values  20 non-null     object\n",
      " 3   Price   20 non-null     int64 \n",
      "dtypes: int64(2), object(2)\n",
      "memory usage: 768.0+ bytes\n"
     ]
    }
   ],
   "source": [
    "# Yishun Flat\n",
    "yishun.info()"
   ]
  },
  {
   "cell_type": "markdown",
   "id": "087cb110",
   "metadata": {},
   "source": [
    "# 4. Exploratory data analysis"
   ]
  },
  {
   "cell_type": "markdown",
   "id": "c05a4c8c",
   "metadata": {},
   "source": [
    "In this section, we will be analysing more in-depth about the data that we have collected. As mentioned above, our aim is to analysing the price of the resale flats in two different estates (mature and non-mature). As well as analysing whether the maturity of the building will affect the price of the resale flat in both mature and non-mature estate. "
   ]
  },
  {
   "cell_type": "markdown",
   "id": "998d7738",
   "metadata": {},
   "source": [
    "### Find out whether the old or new building constructed has a huge difference in price, or the price difference is not much"
   ]
  },
  {
   "cell_type": "markdown",
   "id": "e93f9088",
   "metadata": {},
   "source": [
    "- Comparing the data of when it is build to the price of the flat, whether the price of the flat is affected by when the building is being build such that is it because the building is old so the price is high or is it because the building is new so the price is high, we are thus comparing newly build hdb flats to old build hdb flats whether there is a huge difference in price in both mature (bishan) and non-mature (yishun) estates. \n",
    "\n",
    "- In this section we will be analysing more in-depth about the resale HDB flats"
   ]
  },
  {
   "cell_type": "markdown",
   "id": "0e02fd70",
   "metadata": {},
   "source": [
    "## 4.1 Creating a new variable "
   ]
  },
  {
   "cell_type": "markdown",
   "id": "42ed5ae3",
   "metadata": {},
   "source": [
    "A new dataframe is created with the columns of Type and Price from the dataframe bishan and yishun separately. This is to get rid of all the other unncessary informations from the original dataframe bishan and yishun for this part of the analysis. "
   ]
  },
  {
   "cell_type": "code",
   "execution_count": 129,
   "id": "f4d3c53b",
   "metadata": {},
   "outputs": [
    {
     "data": {
      "text/html": [
       "<div>\n",
       "<style scoped>\n",
       "    .dataframe tbody tr th:only-of-type {\n",
       "        vertical-align: middle;\n",
       "    }\n",
       "\n",
       "    .dataframe tbody tr th {\n",
       "        vertical-align: top;\n",
       "    }\n",
       "\n",
       "    .dataframe thead th {\n",
       "        text-align: right;\n",
       "    }\n",
       "</style>\n",
       "<table border=\"1\" class=\"dataframe\">\n",
       "  <thead>\n",
       "    <tr style=\"text-align: right;\">\n",
       "      <th></th>\n",
       "      <th>Type</th>\n",
       "      <th>Price</th>\n",
       "    </tr>\n",
       "  </thead>\n",
       "  <tbody>\n",
       "    <tr>\n",
       "      <th>0</th>\n",
       "      <td>1987</td>\n",
       "      <td>535000</td>\n",
       "    </tr>\n",
       "    <tr>\n",
       "      <th>1</th>\n",
       "      <td>1988</td>\n",
       "      <td>980000</td>\n",
       "    </tr>\n",
       "    <tr>\n",
       "      <th>2</th>\n",
       "      <td>1985</td>\n",
       "      <td>698000</td>\n",
       "    </tr>\n",
       "    <tr>\n",
       "      <th>3</th>\n",
       "      <td>1987</td>\n",
       "      <td>745000</td>\n",
       "    </tr>\n",
       "    <tr>\n",
       "      <th>4</th>\n",
       "      <td>1987</td>\n",
       "      <td>499999</td>\n",
       "    </tr>\n",
       "    <tr>\n",
       "      <th>5</th>\n",
       "      <td>1986</td>\n",
       "      <td>655000</td>\n",
       "    </tr>\n",
       "    <tr>\n",
       "      <th>6</th>\n",
       "      <td>1992</td>\n",
       "      <td>650000</td>\n",
       "    </tr>\n",
       "    <tr>\n",
       "      <th>7</th>\n",
       "      <td>1988</td>\n",
       "      <td>680000</td>\n",
       "    </tr>\n",
       "    <tr>\n",
       "      <th>8</th>\n",
       "      <td>1988</td>\n",
       "      <td>630000</td>\n",
       "    </tr>\n",
       "    <tr>\n",
       "      <th>9</th>\n",
       "      <td>1992</td>\n",
       "      <td>825000</td>\n",
       "    </tr>\n",
       "    <tr>\n",
       "      <th>10</th>\n",
       "      <td>1987</td>\n",
       "      <td>900000</td>\n",
       "    </tr>\n",
       "    <tr>\n",
       "      <th>11</th>\n",
       "      <td>1986</td>\n",
       "      <td>590000</td>\n",
       "    </tr>\n",
       "    <tr>\n",
       "      <th>12</th>\n",
       "      <td>1998</td>\n",
       "      <td>798000</td>\n",
       "    </tr>\n",
       "    <tr>\n",
       "      <th>13</th>\n",
       "      <td>1974</td>\n",
       "      <td>455000</td>\n",
       "    </tr>\n",
       "    <tr>\n",
       "      <th>14</th>\n",
       "      <td>1998</td>\n",
       "      <td>800000</td>\n",
       "    </tr>\n",
       "    <tr>\n",
       "      <th>15</th>\n",
       "      <td>1998</td>\n",
       "      <td>780000</td>\n",
       "    </tr>\n",
       "    <tr>\n",
       "      <th>16</th>\n",
       "      <td>1990</td>\n",
       "      <td>830000</td>\n",
       "    </tr>\n",
       "    <tr>\n",
       "      <th>17</th>\n",
       "      <td>1989</td>\n",
       "      <td>668000</td>\n",
       "    </tr>\n",
       "    <tr>\n",
       "      <th>18</th>\n",
       "      <td>1992</td>\n",
       "      <td>788000</td>\n",
       "    </tr>\n",
       "    <tr>\n",
       "      <th>19</th>\n",
       "      <td>1986</td>\n",
       "      <td>675000</td>\n",
       "    </tr>\n",
       "  </tbody>\n",
       "</table>\n",
       "</div>"
      ],
      "text/plain": [
       "    Type   Price\n",
       "0   1987  535000\n",
       "1   1988  980000\n",
       "2   1985  698000\n",
       "3   1987  745000\n",
       "4   1987  499999\n",
       "5   1986  655000\n",
       "6   1992  650000\n",
       "7   1988  680000\n",
       "8   1988  630000\n",
       "9   1992  825000\n",
       "10  1987  900000\n",
       "11  1986  590000\n",
       "12  1998  798000\n",
       "13  1974  455000\n",
       "14  1998  800000\n",
       "15  1998  780000\n",
       "16  1990  830000\n",
       "17  1989  668000\n",
       "18  1992  788000\n",
       "19  1986  675000"
      ]
     },
     "execution_count": 129,
     "metadata": {},
     "output_type": "execute_result"
    }
   ],
   "source": [
    "bishan_price = bishan[[\"Type\", \"Price\"]]\n",
    "bishan_price"
   ]
  },
  {
   "cell_type": "code",
   "execution_count": 130,
   "id": "578c7665",
   "metadata": {},
   "outputs": [
    {
     "data": {
      "text/html": [
       "<div>\n",
       "<style scoped>\n",
       "    .dataframe tbody tr th:only-of-type {\n",
       "        vertical-align: middle;\n",
       "    }\n",
       "\n",
       "    .dataframe tbody tr th {\n",
       "        vertical-align: top;\n",
       "    }\n",
       "\n",
       "    .dataframe thead th {\n",
       "        text-align: right;\n",
       "    }\n",
       "</style>\n",
       "<table border=\"1\" class=\"dataframe\">\n",
       "  <thead>\n",
       "    <tr style=\"text-align: right;\">\n",
       "      <th></th>\n",
       "      <th>Type</th>\n",
       "      <th>Price</th>\n",
       "    </tr>\n",
       "  </thead>\n",
       "  <tbody>\n",
       "    <tr>\n",
       "      <th>0</th>\n",
       "      <td>1987</td>\n",
       "      <td>535000</td>\n",
       "    </tr>\n",
       "    <tr>\n",
       "      <th>1</th>\n",
       "      <td>1988</td>\n",
       "      <td>980000</td>\n",
       "    </tr>\n",
       "    <tr>\n",
       "      <th>2</th>\n",
       "      <td>1985</td>\n",
       "      <td>698000</td>\n",
       "    </tr>\n",
       "    <tr>\n",
       "      <th>3</th>\n",
       "      <td>1987</td>\n",
       "      <td>745000</td>\n",
       "    </tr>\n",
       "    <tr>\n",
       "      <th>4</th>\n",
       "      <td>1987</td>\n",
       "      <td>499999</td>\n",
       "    </tr>\n",
       "    <tr>\n",
       "      <th>5</th>\n",
       "      <td>1986</td>\n",
       "      <td>655000</td>\n",
       "    </tr>\n",
       "    <tr>\n",
       "      <th>6</th>\n",
       "      <td>1992</td>\n",
       "      <td>650000</td>\n",
       "    </tr>\n",
       "    <tr>\n",
       "      <th>7</th>\n",
       "      <td>1988</td>\n",
       "      <td>680000</td>\n",
       "    </tr>\n",
       "    <tr>\n",
       "      <th>8</th>\n",
       "      <td>1988</td>\n",
       "      <td>630000</td>\n",
       "    </tr>\n",
       "    <tr>\n",
       "      <th>9</th>\n",
       "      <td>1992</td>\n",
       "      <td>825000</td>\n",
       "    </tr>\n",
       "    <tr>\n",
       "      <th>10</th>\n",
       "      <td>1987</td>\n",
       "      <td>900000</td>\n",
       "    </tr>\n",
       "    <tr>\n",
       "      <th>11</th>\n",
       "      <td>1986</td>\n",
       "      <td>590000</td>\n",
       "    </tr>\n",
       "    <tr>\n",
       "      <th>12</th>\n",
       "      <td>1998</td>\n",
       "      <td>798000</td>\n",
       "    </tr>\n",
       "    <tr>\n",
       "      <th>13</th>\n",
       "      <td>1974</td>\n",
       "      <td>455000</td>\n",
       "    </tr>\n",
       "    <tr>\n",
       "      <th>14</th>\n",
       "      <td>1998</td>\n",
       "      <td>800000</td>\n",
       "    </tr>\n",
       "    <tr>\n",
       "      <th>15</th>\n",
       "      <td>1998</td>\n",
       "      <td>780000</td>\n",
       "    </tr>\n",
       "    <tr>\n",
       "      <th>16</th>\n",
       "      <td>1990</td>\n",
       "      <td>830000</td>\n",
       "    </tr>\n",
       "    <tr>\n",
       "      <th>17</th>\n",
       "      <td>1989</td>\n",
       "      <td>668000</td>\n",
       "    </tr>\n",
       "    <tr>\n",
       "      <th>18</th>\n",
       "      <td>1992</td>\n",
       "      <td>788000</td>\n",
       "    </tr>\n",
       "    <tr>\n",
       "      <th>19</th>\n",
       "      <td>1986</td>\n",
       "      <td>675000</td>\n",
       "    </tr>\n",
       "  </tbody>\n",
       "</table>\n",
       "</div>"
      ],
      "text/plain": [
       "    Type   Price\n",
       "0   1987  535000\n",
       "1   1988  980000\n",
       "2   1985  698000\n",
       "3   1987  745000\n",
       "4   1987  499999\n",
       "5   1986  655000\n",
       "6   1992  650000\n",
       "7   1988  680000\n",
       "8   1988  630000\n",
       "9   1992  825000\n",
       "10  1987  900000\n",
       "11  1986  590000\n",
       "12  1998  798000\n",
       "13  1974  455000\n",
       "14  1998  800000\n",
       "15  1998  780000\n",
       "16  1990  830000\n",
       "17  1989  668000\n",
       "18  1992  788000\n",
       "19  1986  675000"
      ]
     },
     "execution_count": 130,
     "metadata": {},
     "output_type": "execute_result"
    }
   ],
   "source": [
    "yishun_price = bishan[[\"Type\", \"Price\"]]\n",
    "yishun_price"
   ]
  },
  {
   "cell_type": "markdown",
   "id": "c8507a4d",
   "metadata": {},
   "source": [
    "## 4.2 Analysis of pricing difference in Mature and Non-mature estates and which is more affordable to purchase. "
   ]
  },
  {
   "cell_type": "markdown",
   "id": "6a850864",
   "metadata": {},
   "source": [
    "Plotting a bar graph with Type as the x-axis and the Price as the y-axis. This is to show the price of the HDB flat of every year it is being constructed in the form of a bar graph. "
   ]
  },
  {
   "cell_type": "code",
   "execution_count": 131,
   "id": "02233767",
   "metadata": {},
   "outputs": [
    {
     "data": {
      "text/plain": [
       "<AxesSubplot:ylabel='Type'>"
      ]
     },
     "execution_count": 131,
     "metadata": {},
     "output_type": "execute_result"
    },
    {
     "data": {
      "image/png": "[encoded data removed]",
      "text/plain": [
       "<Figure size 750x350 with 1 Axes>"
      ]
     },
     "metadata": {},
     "output_type": "display_data"
    }
   ],
   "source": [
    "# Bishan Flat \n",
    "bishan_price.head(10).sort_values(by=\"Type\", ascending=True).plot(kind=\"barh\", x=\"Type\", y=\"Price\")\n",
    "# Change the colour of the barh graph "
   ]
  },
  {
   "cell_type": "code",
   "execution_count": 132,
   "id": "e80dc921",
   "metadata": {},
   "outputs": [
    {
     "data": {
      "text/plain": [
       "<AxesSubplot:ylabel='Type'>"
      ]
     },
     "execution_count": 132,
     "metadata": {},
     "output_type": "execute_result"
    },
    {
     "data": {
      "image/png": "[encoded data removed]",
      "text/plain": [
       "<Figure size 750x350 with 1 Axes>"
      ]
     },
     "metadata": {},
     "output_type": "display_data"
    }
   ],
   "source": [
    "# Yishun Flat \n",
    "yishun_price.head(10).sort_values(by=\"Type\", ascending=True).plot(kind=\"barh\", x=\"Type\", y=\"Price\")\n",
    "# change the colour of the barh group / change the theme if possible "
   ]
  },
  {
   "cell_type": "markdown",
   "id": "f3961ab6",
   "metadata": {},
   "source": [
    "- From the above results, if we were to compare the year 1987 and 1988 for both Bishan (Mature estate) and Yishun (Non-mature estate) we can see that there is a difference of price in the reslae flats.\n",
    "- With these 10 extracted data from the rest of the other datas, most flats in Bishan (Mature estate) pricing ranges between 600,0000 to 800,000. Meanwhile the flats in Yishun (Non-mature estate) pricing ranges between 400,000 to 600,000. From here we can somwewhat conclude that purchasing a house in the non-mature estate would be more afforable."
   ]
  },
  {
   "cell_type": "markdown",
   "id": "5e942338",
   "metadata": {},
   "source": [
    "## 4.3 Analysis of year the building constructed in to having affects on the price of the HDB flat in mature and non-mature estates."
   ]
  },
  {
   "cell_type": "code",
   "execution_count": 133,
   "id": "c93a6519",
   "metadata": {
    "scrolled": false
   },
   "outputs": [
    {
     "data": {
      "image/png": "[encoded data removed]",
      "text/plain": [
       "<Figure size 750x350 with 1 Axes>"
      ]
     },
     "metadata": {},
     "output_type": "display_data"
    }
   ],
   "source": [
    "import matplotlib.pyplot as plt\n",
    "\n",
    "# x-axis values\n",
    "x1 = bishan[\"Type\"]\n",
    "# y-axis values\n",
    "y1 = bishan[\"Price\"]\n",
    "\n",
    "# plotting points as a scatter plot\n",
    "plt.scatter(x1, y1, label= \"Bishan\", color= \"lightsalmon\",\n",
    "\t\t\tmarker= \"D\", s=40)\n",
    "\n",
    "# x-axis values\n",
    "x2 = yishun[\"Type\"]\n",
    "# y-axis values\n",
    "y2 = yishun[\"Price\"]\n",
    "\n",
    "# plotting points as a scatter plot\n",
    "plt.scatter(x2, y2, label= \"Yishun\", color= \"skyblue\",\n",
    "\t\t\tmarker= \"*\", s=100)\n",
    "\n",
    "\n",
    "# x-axis label\n",
    "plt.xlabel(\"Year constructed\")\n",
    "# frequency label\n",
    "plt.ylabel(\"Price of the flat ($)\")\n",
    "# plot title\n",
    "plt.title(\"Does the year constructed affects the price of the HDB flat?\")\n",
    "# showing legend\n",
    "plt.legend()\n",
    "\n",
    "# function to show the plot\n",
    "plt.show()"
   ]
  },
  {
   "cell_type": "markdown",
   "id": "ea7df167",
   "metadata": {},
   "source": [
    "- From here we can tell that Bishan flats which are in the mature estates, pricing of the HDB are in the higher range compared to Yishun which is in the non-mature estate. \n",
    "- We can also tell that the age of the HDB flat and when it is constructed does not greatly affect the pricing of the flat such that aroun the year 1988, that is when the houses are in high price especially in the mature estate (Bishan) compared to Yishun and compared to relatively newly built HDB flats in 2010 and later the price does not affect. \n",
    "- From here we can conclude that whether the hdb flat is a newly built flat or a flat that is constructed more than 20 years ago, the price of the flat is still soaring high and that the age of the flat does not affect the price of the flat. However, the location of the flat such that whether it is in a mature or non-mature estate, does affect the price of the flat. \n",
    "\n",
    "1e6 is equivalent to 100000, so 0.9 is equivalent to 900000 and so on for the rest of the numbers..."
   ]
  },
  {
   "cell_type": "markdown",
   "id": "9349a4ab",
   "metadata": {},
   "source": [
    "# 5. Summary"
   ]
  },
  {
   "cell_type": "markdown",
   "id": "f06d0d18",
   "metadata": {},
   "source": [
    "## 5.1 Conclusions"
   ]
  },
  {
   "cell_type": "markdown",
   "id": "45810ba8",
   "metadata": {},
   "source": [
    "In conclusion, we should opt to look at purchasing HDB resale flats in non-mature estate which are building built less than 20 years to stay in. As resale flats can be sold and repurchase anytime after the owners have completed their minimum occupational period of the house.  "
   ]
  },
  {
   "cell_type": "markdown",
   "id": "95a36a23",
   "metadata": {},
   "source": [
    "# 6. References and Resources "
   ]
  },
  {
   "cell_type": "markdown",
   "id": "54920341",
   "metadata": {},
   "source": [
    "### 6.1 References and Resources used"
   ]
  },
  {
   "cell_type": "markdown",
   "id": "94b6978d",
   "metadata": {},
   "source": [
    "Webscraping of data for resale flat prices in Singapore taken from the website:\n",
    "\n",
    "Webscraping \n",
    "\n",
    "For Bishan (Mature estate):\n",
    "- https://www.stproperty.sg/singapore-property-listings/hdb-for-sale?cdResearchSubTypes=2&selectedHdbTownIds=3&page=2\n",
    "\n",
    "For Yishun (Non-mature estate):\n",
    "- https://www.stproperty.sg/singapore-property-listings/hdb-for-sale?cdResearchSubTypes=2&selectedHdbTownIds=27\n",
    "\n",
    "\n",
    "Other resources referred to: \n",
    "- https://www.youtube.com/watch?v=RvCBzhhydNk\n",
    "- https://www.geeksforgeeks.org/graph-plotting-in-python-set-1/\n",
    "- https://realpython.com/pandas-plot-python/\n",
    "- https://matplotlib.org/3.3.3/api/markers_api.html\n",
    "- https://en.wikipedia.org/wiki/Build_to_order_(HDB)\n",
    "- https://www.propertyguru.com.sg/property-guides/non-mature-vs-mature-bto-55760\n"
   ]
  }
 ],
 "metadata": {
  "kernelspec": {
   "display_name": "Python 3 (ipykernel)",
   "language": "python",
   "name": "python3"
  },
  "language_info": {
   "codemirror_mode": {
    "name": "ipython",
    "version": 3
   },
   "file_extension": ".py",
   "mimetype": "text/x-python",
   "name": "python",
   "nbconvert_exporter": "python",
   "pygments_lexer": "ipython3",
   "version": "3.9.13"
  }
 },
 "nbformat": 4,
 "nbformat_minor": 5
}
